{
  "nbformat": 4,
  "nbformat_minor": 0,
  "metadata": {
    "colab": {
      "name": "TCC_BI_MASTER_LUCAS_LASSANCE_2019.4_REV02.ipynb",
      "provenance": [],
      "collapsed_sections": []
    },
    "kernelspec": {
      "name": "python3",
      "display_name": "Python 3"
    },
    "language_info": {
      "name": "python"
    }
  },
  "cells": [
    {
      "cell_type": "code",
      "metadata": {
        "id": "GjG0QSzWSnSR"
      },
      "source": [
        "Github: https://github.com/lassancetecnologia/tcc_bimaster_2019.4"
      ],
      "execution_count": null,
      "outputs": []
    },
    {
      "cell_type": "markdown",
      "metadata": {
        "id": "B-ASGCuUWQWj"
      },
      "source": [
        "#1.Importação de Bibliotecas"
      ]
    },
    {
      "cell_type": "code",
      "metadata": {
        "id": "JPATplf4OrBl",
        "colab": {
          "base_uri": "https://localhost:8080/"
        },
        "outputId": "8194af2c-5e46-4e71-ff81-2645780b5457"
      },
      "source": [
        "import os\n",
        "import pandas as pd\n",
        "import numpy as np\n",
        "import os\n",
        "from datetime import datetime\n",
        "from sklearn.cluster import DBSCAN\n",
        "import matplotlib\n",
        "import matplotlib.pyplot as plt\n",
        "import warnings\n",
        "warnings.filterwarnings(\"ignore\")\n",
        "import scipy.stats as ss\n",
        "\n",
        "!pip install python-docx\n",
        "from docx import Document\n",
        "from docx.shared import Inches\n",
        "\n",
        "import sklearn.preprocessing\n",
        "import sklearn\n",
        "from sklearn.ensemble import IsolationForest\n",
        "from sklearn.metrics import classification_report,accuracy_score"
      ],
      "execution_count": null,
      "outputs": [
        {
          "output_type": "stream",
          "name": "stdout",
          "text": [
            "Requirement already satisfied: python-docx in /usr/local/lib/python3.7/dist-packages (0.8.11)\n",
            "Requirement already satisfied: lxml>=2.3.2 in /usr/local/lib/python3.7/dist-packages (from python-docx) (4.2.6)\n"
          ]
        }
      ]
    },
    {
      "cell_type": "markdown",
      "metadata": {
        "id": "R4-fCIgJXEN1"
      },
      "source": [
        "#2.Conexão ao Google Drive"
      ]
    },
    {
      "cell_type": "code",
      "metadata": {
        "colab": {
          "base_uri": "https://localhost:8080/"
        },
        "id": "r-tLBsnZXEnr",
        "outputId": "1ae41158-3b96-4941-cae7-55b2d91e57d1"
      },
      "source": [
        "# MONTAR O DRIVE\n",
        "from google.colab import drive\n",
        "drive.mount('/content/drive')"
      ],
      "execution_count": null,
      "outputs": [
        {
          "output_type": "stream",
          "name": "stdout",
          "text": [
            "Drive already mounted at /content/drive; to attempt to forcibly remount, call drive.mount(\"/content/drive\", force_remount=True).\n"
          ]
        }
      ]
    },
    {
      "cell_type": "markdown",
      "metadata": {
        "id": "19BMsameXaOO"
      },
      "source": [
        "#3.Função para tratamento de dados e geração de DataFrame para estudos"
      ]
    },
    {
      "cell_type": "code",
      "metadata": {
        "id": "lTSWM1cOXi6v"
      },
      "source": [
        "def tratamento_dados(path, data_inicial, data_final, hora_inicial, hora_final, func_maq):\n",
        "  # Argumentos\n",
        "  # path: STRING - caminho da pasta para os arquivos csv das variáveis\n",
        "  # data_inicial: STRING 'AAAA-MM-DD'\n",
        "  # data_final: STRING 'AAAA-MM-DD'\n",
        "  # hora_inicial: INT\n",
        "  # hora_final: INT\n",
        "  # func_maq: 0/1 usar ou não somente os dados da máquina ligada\n",
        "\n",
        "\n",
        "  lista_arquivos = os.listdir(path=path)\n",
        "\n",
        "  df = pd.DataFrame()\n",
        "  df_aux = pd.DataFrame()\n",
        "  count = -1\n",
        "\n",
        "  # Varredura da pasta pelos arquivps csv das variáveis\n",
        "  for variavel in lista_arquivos: \n",
        "\n",
        "\n",
        "    if variavel[-4:] == '.csv':\n",
        "      count = count + 1 \n",
        "      \n",
        "      # 1. Coleta de csv\n",
        "      df_aux = pd.read_csv(variavel)\n",
        "\n",
        "      # Tratamento do dataframe\n",
        "      df_aux = df_aux.iloc[::-1]\n",
        "      df_aux = df_aux.reset_index(drop=True)\n",
        "      df_aux = df_aux.drop(columns=['id','origin'])\n",
        "      if 'unit' in df_aux: \n",
        "        df_aux = df_aux.drop(columns=['unit'])\n",
        "      if 'metadata' in df_aux: \n",
        "        df_aux = df_aux.drop(columns=['metadata'])  \n",
        "      df_aux = df_aux.rename(columns={'value': variavel[:-4]})\n",
        "      df_aux = df_aux.drop(columns=['variable'])\n",
        "\n",
        "      df_aux['time'] = pd.to_datetime(df_aux['time'])\n",
        "\n",
        "      if count == 0: # Primeira rodada\n",
        "        df = df_aux\n",
        "        \n",
        "      if count > 0: # Rodadas seguintes, necessário juntar dataframes\n",
        "        df = pd.merge_asof(df, df_aux, on='time', direction=\"nearest\", tolerance=pd.Timedelta(\"1 min\"))\n",
        "        \n",
        "  # Mapeamento de atributos categóricos\n",
        "  df['controle_on_off_ihm'] = df['controle_on_off_ihm'].map({'Ligado': 1, 'Desligado': 0})\n",
        "  df['modo_ihm'] = df['modo_ihm'].map({'Frio': -1, 'Ventilador': 0, 'Aquecimento': 1})\n",
        "\n",
        "  #df['controle_on_off_ihm'] = df['controle_on_off_ihm'].astype(int)\n",
        "  #df['modo_ihm'] = df['modo_ihm'].astype(int)\n",
        "\n",
        "\n",
        "  # Correção de fuso horário \n",
        "  array_hora_utc = df['time']\n",
        "  df['time'] = pd.DatetimeIndex(array_hora_utc).tz_convert('Etc/GMT+3')\n",
        "\n",
        "  # Exclusão de dados fora das datas\n",
        "  df = df[df['time'] >= data_inicial + ' 00:00:00']\n",
        "  df = df[df['time'] < data_final + ' 00:00:00']\n",
        "\n",
        "  df = df.reset_index()\n",
        "  df = df.drop(columns=['index'],axis=1)\n",
        "  if len(df) == 0:\n",
        "    return\n",
        "\n",
        "  # Exclusão de dados fora dos horários determinados\n",
        "  for i in range(len(df['time'])):\n",
        "    hora = str(i)\n",
        "    if len(hora) == 1:\n",
        "      hora = '0' + hora\n",
        "    \n",
        "    if df['time'][i].hour < hora_inicial or df['time'][i].hour >= hora_final:\n",
        "      df = df.drop([i])\n",
        "\n",
        "  df = df.reset_index() # atualizando os indexes\n",
        "  df = df.drop(columns=['index'],axis=1)\n",
        "\n",
        "  # Exclusão de dados com máquina desligada\n",
        "  if func_maq == 1:\n",
        "    for i in range(len(df['time'])):\n",
        "      if df['controle_on_off_ihm'][i] == 0:\n",
        "        df = df.drop([i])\n",
        "\n",
        "\n",
        "  # Missing values\n",
        "  a = df[df['controle_on_off_ihm'].isna() == True].index.to_list()\n",
        "  df = df.drop(a)\n",
        "  df = df.reset_index() # atualizando os indexes\n",
        "  df = df.drop(columns=['index'])\n",
        "\n",
        "  # Novos dados\n",
        "  df['erro_temp'] = df['temp_amb_retorno'] - df['setpoint_temp_ihm']\n",
        "  if 'corrente_compressor' in df.columns:\n",
        "    df['potencia'] = df['corrente_compressor'] * 220\n",
        "\n",
        "  array_hora = pd.Series()\n",
        "  array_hora = df['time'].astype(str)\n",
        "  for index, value in array_hora.items():\n",
        "    array_hora[index] = value[11:13]\n",
        "\n",
        "  df['hora'] = array_hora\n",
        "\n",
        "  return df"
      ],
      "execution_count": null,
      "outputs": []
    },
    {
      "cell_type": "markdown",
      "metadata": {
        "id": "ATX_E4dvZ4yG"
      },
      "source": [
        "#4.Função para estudos estatísticos e geração de DataFrame com resultados"
      ]
    },
    {
      "cell_type": "code",
      "metadata": {
        "id": "6J1TsNVzaCm0"
      },
      "source": [
        "def estudos_estatisticos(df,tol_temp_sp,lim_temp_sup,lim_temp_inf):\n",
        "  # Argumentos:\n",
        "  # df: dataframe da máquina com dados tratados\n",
        "  # tol_temp_sp: float - tolerância aceitável acima e abaixo do setpoint\n",
        "\n",
        "\n",
        "  data = pd.DataFrame()\n",
        "\n",
        "\n",
        "  # Erro\n",
        "  erro_medio = df['erro_temp'].mean()\n",
        "  erro_max = df['erro_temp'].max()\n",
        "  erro_min = df['erro_temp'].min()\n",
        "\n",
        "\n",
        "  # Comparação com setpoint\n",
        "  dados_coletados = len(df)\n",
        "  acima_sp = len(df[df['erro_temp'] > tol_temp_sp])\n",
        "  abaixo_sp = len(df[df['erro_temp'] < tol_temp_sp*(-1)])\n",
        "  horas_acima_sp = acima_sp / 4\n",
        "  horas_abaixo_sp = abaixo_sp / 4\n",
        "  horas_dentro_sp = (dados_coletados - acima_sp - abaixo_sp) / 4\n",
        "  horas_fora_sp = (acima_sp + abaixo_sp) / 4\n",
        "  perc_acima_sp = acima_sp / dados_coletados\n",
        "  perc_abaixo_sp = abaixo_sp / dados_coletados\n",
        "  efic_maq_sp = 1 - perc_acima_sp - perc_abaixo_sp\n",
        "\n",
        "\n",
        "  # Comparação com limites desejáveis lim_temp_sup lim_temp_inf\n",
        "  acima_lim_temp = len(df[df['erro_temp'] > lim_temp_sup])\n",
        "  abaixo_lim_temp = len(df[df['erro_temp'] < lim_temp_inf])\n",
        "  horas_acima_lim_temp = acima_lim_temp / 4\n",
        "  horas_abaixo_lim_temp = abaixo_lim_temp / 4\n",
        "  horas_dentro_lim_temp = (dados_coletados - acima_lim_temp - abaixo_lim_temp) / 4\n",
        "  horas_fora_lim_temp = (acima_lim_temp + abaixo_lim_temp) / 4\n",
        "  perc_acima_lim_temp = acima_lim_temp / dados_coletados\n",
        "  perc_abaixo_lim_temp = abaixo_lim_temp / dados_coletados\n",
        "  efic_maq_lim_temp = 1 - perc_acima_lim_temp - perc_abaixo_lim_temp\n",
        "  \n",
        "\n",
        "  # Erro médio por hora\n",
        "  df_aux = df[['hora','erro_temp']]\n",
        "  df_aux = df_aux.groupby(['hora'],as_index=False).mean()\n",
        "  df_aux = df_aux.sort_values(by='erro_temp',ascending=False)\n",
        "  top_hrs_acima_sp = df_aux['hora'][:3].to_list()\n",
        "  top_hrs_abaixo_sp = df_aux['hora'][-3:].to_list()\n",
        "\n",
        "\n",
        "  # Códigos de erro da máquina\n",
        "  qt_erros = len(df[df['codigo_falha'] != 0])\n",
        "  horas_erros = qt_erros / 4\n",
        "  tipos_erros = df[df['codigo_falha'] != 0]['codigo_falha'].value_counts().index.to_list()\n",
        "\n",
        "  df_erro = df[df['codigo_falha'] != 0]['codigo_falha'].value_counts().to_frame()\n",
        "  df_erro = df_erro.rename(columns={\"codigo_falha\": \"quantidade\"})\n",
        "  df_erro['codigo_falha'] = df_erro.index\n",
        "  df_erro = df_erro.reset_index(drop=True)\n",
        "  df_erro = df_erro.sort_values(by='quantidade',ascending=False)\n",
        "  top_erro = df_erro['codigo_falha'][0]\n",
        "  \n",
        "\n",
        "  \n",
        "  dados_gerais = [erro_medio,erro_max,erro_min,dados_coletados,acima_sp,abaixo_sp,\n",
        "                  horas_acima_sp,horas_abaixo_sp,horas_dentro_sp,horas_fora_sp,perc_acima_sp,perc_abaixo_sp,efic_maq_sp,\n",
        "                  acima_lim_temp,abaixo_lim_temp,horas_acima_lim_temp,\n",
        "                  horas_abaixo_lim_temp,horas_dentro_lim_temp,horas_fora_lim_temp,\n",
        "                  perc_acima_lim_temp,perc_abaixo_lim_temp,efic_maq_lim_temp,\n",
        "                  top_hrs_acima_sp,top_hrs_abaixo_sp,\n",
        "                  qt_erros,horas_erros,tipos_erros,top_erro\n",
        "            ]\n",
        "\n",
        "  colunas = ['erro_medio','erro_max','erro_min','dados_coletados','acima_sp','abaixo_sp',\n",
        "             'horas_acima_sp','horas_abaixo_sp','horas_dentro_sp','horas_fora_sp','perc_acima_sp','perc_abaixo_sp','efic_maq_sp',\n",
        "             'acima_lim_temp','abaixo_lim_temp','horas_acima_lim_temp',\n",
        "             'horas_abaixo_lim_temp','horas_dentro_lim_temp','horas_fora_lim_temp',\n",
        "             'perc_acima_lim_temp','perc_abaixo_lim_temp','efic_maq_lim_temp',\n",
        "             'top_hrs_acima_sp','top_hrs_abaixo_sp',\n",
        "             'qt_erros','horas_erros','tipos_erros','top_erro'\n",
        "            ]\n",
        "\n",
        "  df_geral = pd.DataFrame(data = np.array([dados_gerais]), columns = colunas)\n",
        "\n",
        "\n",
        "  df_geral = df_geral.transpose()\n",
        "  df_geral = df_geral.rename(columns={0: str(df['time'][0])[:7]})\n",
        "\n",
        "  return df_geral\n",
        "\n",
        "  # lembrar de tratar caso em que não haja dados"
      ],
      "execution_count": null,
      "outputs": []
    },
    {
      "cell_type": "markdown",
      "metadata": {
        "id": "DA8v9Oilb-LC"
      },
      "source": [
        "#5.Função de plotagem de variáveis para estudo e análise visual"
      ]
    },
    {
      "cell_type": "code",
      "metadata": {
        "id": "FXjjC7umcF3S"
      },
      "source": [
        "# Plotagem dos dados para estudo geral\n",
        "def estudo_imagens(path,df):\n",
        "\n",
        "  os.chdir(path)\n",
        "\n",
        "\n",
        "  for var in df.columns[1:]:\n",
        "    plt.close()\n",
        "    plt.figure(figsize=(6,3))\n",
        "    plt.scatter(df['time'],df[var])\n",
        "    plt.title(var+'_scatter')\n",
        "    plt.savefig(fname=var+'_scatter', dpi=150, facecolor='w', edgecolor='w', orientation='landscape', papertype=None, format='png',transparent=False, bbox_inches=None, pad_inches=0.1,frameon=None, metadata=None)\n",
        "\n",
        "    plt.close()\n",
        "    plt.figure(figsize=(6,3))\n",
        "    plt.hist(df[var])\n",
        "    plt.title(var+'_hist')\n",
        "    plt.savefig(fname=var+'_hist', dpi=150, facecolor='w', edgecolor='w', orientation='landscape', papertype=None, format='png',transparent=False, bbox_inches=None, pad_inches=0.1,frameon=None, metadata=None)\n",
        "    plt.close()\n"
      ],
      "execution_count": null,
      "outputs": []
    },
    {
      "cell_type": "markdown",
      "metadata": {
        "id": "061t8kkQaKNq"
      },
      "source": [
        "#6.Funções de avaliação de z-core e z-score modificado"
      ]
    },
    {
      "cell_type": "code",
      "metadata": {
        "id": "UOhN84LXbee5"
      },
      "source": [
        "# Função para Z-score modificado\n",
        "\n",
        "def modified_zscore(data, consistency_correction=1.4826):\n",
        "    \"\"\"\n",
        "    Returns the modified z score and Median Absolute Deviation (MAD) from the scores in data.\n",
        "    The consistency_correction factor converts the MAD to the standard deviation for a given\n",
        "    distribution. The default value (1.4826) is the conversion factor if the underlying data\n",
        "    is normally distributed\n",
        "    \"\"\"\n",
        "    median = np.median(data)\n",
        "    \n",
        "    deviation_from_med = np.array(data) - median\n",
        "\n",
        "    mad = np.median(np.abs(deviation_from_med))\n",
        "    mod_zscore = deviation_from_med/(consistency_correction*mad)\n",
        "\n",
        "    return mod_zscore, mad"
      ],
      "execution_count": null,
      "outputs": []
    },
    {
      "cell_type": "code",
      "metadata": {
        "id": "izzcVZf8bjj-"
      },
      "source": [
        "# Funções para plotagem de gráficos de z-score\n",
        "\n",
        "def plot_anomaly_zscore(score_data, threshold, variavel, pos_neg):\n",
        "  # Mask to plot values above and below threshold in different colors\n",
        "\n",
        "  score_data = score_data.copy().sort_values(ascending=False).values\n",
        "  ranks = np.linspace(1, len(score_data), len(score_data))\n",
        "  if pos_neg == 'pos':\n",
        "    mask_outlier = (score_data > threshold)\n",
        "  else:\n",
        "    mask_outlier = (score_data < threshold)\n",
        "\n",
        "  plt.figure(dpi=100)\n",
        "  plt.plot(ranks[~mask_outlier], score_data[~mask_outlier],'o', color='b',label='OK')\n",
        "  plt.plot(ranks[mask_outlier], score_data[mask_outlier],'o', color='r', label='anomalies')\n",
        "  plt.axhline(threshold,color='r',label='threshold', alpha=0.5)\n",
        "  plt.legend(loc = 'lower left')\n",
        "  plt.title('Z-score vs. ' + variavel, fontweight='bold')\n",
        "  plt.xlabel(variavel)\n",
        "  plt.ylabel('Z-score')\n",
        "  #plt.show()\n",
        " \n",
        "\n",
        "\n",
        "def plot_anomaly_mod_zscore(score_data, threshold, variavel, pos_neg):\n",
        "\n",
        "  score_data = score_data.copy().sort_values(ascending=False).values\n",
        "  ranks = np.linspace(1, len(score_data), len(score_data))\n",
        "  if pos_neg == 'pos':\n",
        "    mask_outliers = (score_data > threshold)\n",
        "  else:\n",
        "    mask_outliers = (score_data < threshold)\n",
        "\n",
        "  plt.figure(dpi=150)\n",
        "  plt.plot(ranks[mask_outliers], score_data[mask_outliers],'o', color='r',label='anomalies')\n",
        "  plt.plot(ranks[~mask_outliers], score_data[~mask_outliers],'o', color='b', label='typical player')\n",
        "  plt.axhline(threshold,color='r',label='threshold', alpha=0.5)\n",
        "  plt.legend(loc = 'upper right')\n",
        "  plt.title('Modified z-score vs. ' + variavel, fontweight='bold')\n",
        "  plt.xticks(np.arange(0, 21, step=2.0))\n",
        "  plt.xlabel(variavel)\n",
        "  plt.ylabel('Modified z-score')\n",
        "  #plt.show()"
      ],
      "execution_count": null,
      "outputs": []
    },
    {
      "cell_type": "code",
      "metadata": {
        "id": "fHPur90_blzR"
      },
      "source": [
        "def estudo_estatistico_anomalias(path, df, variavel, threshold_pos, threshold_neg):\n",
        "  \n",
        "  if variavel == 'time':\n",
        "    df_stats_anomalies = pd.DataFrame()\n",
        "    return df_stats_anomalies\n",
        "\n",
        "\n",
        "  os.chdir(path)\n",
        "\n",
        "  df_stats = pd.DataFrame()\n",
        "  df_stats['time'] = df['time'][df[variavel] != 0]\n",
        "  df_stats['valor'] = df[variavel][df[variavel] != 0]\n",
        "  #print(df[df[variavel] != 0])\n",
        "\n",
        "  # Cálculo de z-core e z-score modificado\n",
        "  zscore_rate = ss.zscore(df_stats['valor'], ddof=0)\n",
        "  df_stats['zscore'] = zscore_rate\n",
        "\n",
        "  mod_zscore_rate, mad_rate = modified_zscore(df_stats['valor'])\n",
        "  df_stats['mod_zscore'] = mod_zscore_rate\n",
        "\n",
        "\n",
        "  # Z-core positivo\n",
        "  plt.close()\n",
        "  plot_name = variavel + '_zc_' + str(threshold_pos) + '.png'\n",
        "  plot_anomaly_zscore(df_stats['zscore'], threshold_pos,variavel,'pos')\n",
        "  if df_stats['zscore'].max() >= threshold_pos:\n",
        "    plt.savefig(fname=plot_name, dpi=100, facecolor='w', edgecolor='w', orientation='portrait', papertype=None, format='png',transparent=False, bbox_inches=None, pad_inches=0.1,frameon=None, metadata=None)\n",
        "\n",
        "  # Z-core negativo\n",
        "  plt.close()\n",
        "  plot_name = variavel + '_zc_' + str(threshold_neg) + '.png'\n",
        "  plot_anomaly_zscore(df_stats['zscore'], threshold_neg,variavel,'neg')\n",
        "  if df_stats['zscore'].min() <= threshold_neg:\n",
        "    plt.savefig(fname=plot_name, dpi=100, facecolor='w', edgecolor='w', orientation='portrait', papertype=None, format='png',transparent=False, bbox_inches=None, pad_inches=0.1,frameon=None, metadata=None)\n",
        "\n",
        "  # Z-core modificado positivo\n",
        "  plt.close()\n",
        "  plot_name = variavel + '_zc_mod_' + str(threshold_pos) + '.png'\n",
        "  plot_anomaly_mod_zscore(df_stats['mod_zscore'], threshold_pos,variavel,'pos')\n",
        "  if df_stats['mod_zscore'].max() >= threshold_pos:\n",
        "    plt.savefig(fname=plot_name, dpi=100, facecolor='w', edgecolor='w', orientation='portrait', papertype=None, format='png',transparent=False, bbox_inches=None, pad_inches=0.1,frameon=None, metadata=None)\n",
        "\n",
        "  # Z-core modificado negativo\n",
        "  plt.close()\n",
        "  plot_name = variavel + '_zc_mod_' + str(threshold_neg) + '.png'\n",
        "  plot_anomaly_mod_zscore(df_stats['mod_zscore'], threshold_neg,variavel,'neg')\n",
        "  if df_stats['mod_zscore'].min() <= threshold_neg:\n",
        "    plt.savefig(fname=plot_name, dpi=100, facecolor='w', edgecolor='w', orientation='portrait', papertype=None, format='png',transparent=False, bbox_inches=None, pad_inches=0.1,frameon=None, metadata=None)\n",
        "  plt.close()\n",
        "\n",
        "\n",
        "  df_stats['variavel'] = variavel   # inserção do nome da grandeza/variavel\n",
        "\n",
        "\n",
        "  return df_stats"
      ],
      "execution_count": null,
      "outputs": []
    },
    {
      "cell_type": "markdown",
      "metadata": {
        "id": "zUO_MgJHdNRO"
      },
      "source": [
        "#X.Execução de funções"
      ]
    },
    {
      "cell_type": "markdown",
      "metadata": {
        "id": "KiZrWc2Lg3Pq"
      },
      "source": [
        "##X.1 Coleta e tratamento inicial de dados"
      ]
    },
    {
      "cell_type": "code",
      "metadata": {
        "id": "iHQvQnvgdUyL"
      },
      "source": [
        "maquina_estudo = 'Inverter' # Inverter / Compressor 1 / Compressor 3\n",
        "\n",
        "workdir_path = '/content/drive/My Drive/2. Greenole/9. Análises/00. Trabalho BI Master/1. Coleta de dados/HVAC-BK/' + maquina_estudo\n",
        "os.chdir(workdir_path)\n",
        "\n",
        "data_inicial = '2021-05-01'\n",
        "data_final = '2021-08-01'\n",
        "hora_inicial = 0\n",
        "hora_final = 24\n",
        "func_maq = 1              # func_maq = 1 --> considera somente registros com a máquina ligada \n",
        "tol_temp_sp = 2           # tolerância aceitável acima e abaixo do setpoint\n",
        "lim_temp_sup = 26         # maior valor de temperatura ambiente aceitável\n",
        "lim_temp_inf = 22         # menor valor de temperatura ambiente aceitável\n",
        "\n",
        "\n",
        "\n",
        "df = tratamento_dados(workdir_path,data_inicial,data_final,hora_inicial,hora_final,func_maq)\n",
        "df_geral = estudos_estatisticos(df,tol_temp_sp,lim_temp_sup,lim_temp_inf)\n",
        "\n",
        "\n",
        "\n",
        "# Gera e salva imagens tipo historico e scatter das variáveis para análise visual\n",
        "\n",
        "path = '/content/drive/My Drive/2. Greenole/9. Análises/00. Trabalho BI Master/2. Estudo dos dados/Imagens Geradas/Análise HVAC-BK/' + maquina_estudo\n",
        "\n",
        "df_aux = df.drop(['hora'], axis=1)\n",
        "estudo_imagens(path,df_aux)"
      ],
      "execution_count": null,
      "outputs": []
    },
    {
      "cell_type": "code",
      "metadata": {
        "id": "RrgMU8SFg1xy",
        "colab": {
          "base_uri": "https://localhost:8080/",
          "height": 320
        },
        "outputId": "0c218437-4ba7-43bb-d289-d50a71a76c45"
      },
      "source": [
        "df.describe()"
      ],
      "execution_count": null,
      "outputs": [
        {
          "output_type": "execute_result",
          "data": {
            "text/html": [
              "<div>\n",
              "<style scoped>\n",
              "    .dataframe tbody tr th:only-of-type {\n",
              "        vertical-align: middle;\n",
              "    }\n",
              "\n",
              "    .dataframe tbody tr th {\n",
              "        vertical-align: top;\n",
              "    }\n",
              "\n",
              "    .dataframe thead th {\n",
              "        text-align: right;\n",
              "    }\n",
              "</style>\n",
              "<table border=\"1\" class=\"dataframe\">\n",
              "  <thead>\n",
              "    <tr style=\"text-align: right;\">\n",
              "      <th></th>\n",
              "      <th>codigo_falha</th>\n",
              "      <th>controle_on_off_ihm</th>\n",
              "      <th>corrente_comp1</th>\n",
              "      <th>rpm_condensador</th>\n",
              "      <th>temp_amb_retorno</th>\n",
              "      <th>setpoint_temp_ihm</th>\n",
              "      <th>temp_descarga_comp1</th>\n",
              "      <th>temp_meio_condensador</th>\n",
              "      <th>temp_descarga_comp2</th>\n",
              "      <th>temp_dissipador_calor</th>\n",
              "      <th>frequencia_compressor</th>\n",
              "      <th>corrente_comp2</th>\n",
              "      <th>modo_ihm</th>\n",
              "      <th>temp_succao</th>\n",
              "      <th>tensao_barramentoinv</th>\n",
              "      <th>corrente_compressor</th>\n",
              "      <th>temp_externa</th>\n",
              "      <th>erro_temp</th>\n",
              "      <th>potencia</th>\n",
              "    </tr>\n",
              "  </thead>\n",
              "  <tbody>\n",
              "    <tr>\n",
              "      <th>count</th>\n",
              "      <td>5296.000000</td>\n",
              "      <td>5296.0</td>\n",
              "      <td>5296.0</td>\n",
              "      <td>5296.000000</td>\n",
              "      <td>5296.000000</td>\n",
              "      <td>5296.000000</td>\n",
              "      <td>5296.000000</td>\n",
              "      <td>5296.000000</td>\n",
              "      <td>5296.000000</td>\n",
              "      <td>5296.000000</td>\n",
              "      <td>5296.000000</td>\n",
              "      <td>5296.000000</td>\n",
              "      <td>5296.000000</td>\n",
              "      <td>5296.000000</td>\n",
              "      <td>5296.000000</td>\n",
              "      <td>5296.000000</td>\n",
              "      <td>5296.000000</td>\n",
              "      <td>5296.000000</td>\n",
              "      <td>5296.000000</td>\n",
              "    </tr>\n",
              "    <tr>\n",
              "      <th>mean</th>\n",
              "      <td>1.377266</td>\n",
              "      <td>1.0</td>\n",
              "      <td>0.0</td>\n",
              "      <td>204.836103</td>\n",
              "      <td>21.064388</td>\n",
              "      <td>21.812689</td>\n",
              "      <td>41.352153</td>\n",
              "      <td>27.970544</td>\n",
              "      <td>31.713935</td>\n",
              "      <td>37.195431</td>\n",
              "      <td>31.316843</td>\n",
              "      <td>1.328975</td>\n",
              "      <td>-0.989237</td>\n",
              "      <td>17.999622</td>\n",
              "      <td>288.651813</td>\n",
              "      <td>7.607676</td>\n",
              "      <td>19.673150</td>\n",
              "      <td>-0.748301</td>\n",
              "      <td>1673.688633</td>\n",
              "    </tr>\n",
              "    <tr>\n",
              "      <th>std</th>\n",
              "      <td>5.596543</td>\n",
              "      <td>0.0</td>\n",
              "      <td>0.0</td>\n",
              "      <td>217.392466</td>\n",
              "      <td>1.462083</td>\n",
              "      <td>2.699777</td>\n",
              "      <td>18.414862</td>\n",
              "      <td>8.991208</td>\n",
              "      <td>12.881794</td>\n",
              "      <td>11.037191</td>\n",
              "      <td>31.501165</td>\n",
              "      <td>4.897684</td>\n",
              "      <td>0.144386</td>\n",
              "      <td>3.319158</td>\n",
              "      <td>8.616189</td>\n",
              "      <td>7.019708</td>\n",
              "      <td>3.752273</td>\n",
              "      <td>2.545877</td>\n",
              "      <td>1544.335834</td>\n",
              "    </tr>\n",
              "    <tr>\n",
              "      <th>min</th>\n",
              "      <td>0.000000</td>\n",
              "      <td>1.0</td>\n",
              "      <td>0.0</td>\n",
              "      <td>0.000000</td>\n",
              "      <td>16.000000</td>\n",
              "      <td>17.000000</td>\n",
              "      <td>8.000000</td>\n",
              "      <td>8.000000</td>\n",
              "      <td>9.000000</td>\n",
              "      <td>12.000000</td>\n",
              "      <td>0.000000</td>\n",
              "      <td>0.000000</td>\n",
              "      <td>-1.000000</td>\n",
              "      <td>6.000000</td>\n",
              "      <td>256.000000</td>\n",
              "      <td>0.000000</td>\n",
              "      <td>7.000000</td>\n",
              "      <td>-14.000000</td>\n",
              "      <td>0.000000</td>\n",
              "    </tr>\n",
              "    <tr>\n",
              "      <th>25%</th>\n",
              "      <td>0.000000</td>\n",
              "      <td>1.0</td>\n",
              "      <td>0.0</td>\n",
              "      <td>0.000000</td>\n",
              "      <td>20.000000</td>\n",
              "      <td>20.000000</td>\n",
              "      <td>21.000000</td>\n",
              "      <td>19.000000</td>\n",
              "      <td>21.000000</td>\n",
              "      <td>26.000000</td>\n",
              "      <td>0.000000</td>\n",
              "      <td>0.000000</td>\n",
              "      <td>-1.000000</td>\n",
              "      <td>16.000000</td>\n",
              "      <td>284.000000</td>\n",
              "      <td>0.000000</td>\n",
              "      <td>17.000000</td>\n",
              "      <td>-1.000000</td>\n",
              "      <td>0.000000</td>\n",
              "    </tr>\n",
              "    <tr>\n",
              "      <th>50%</th>\n",
              "      <td>0.000000</td>\n",
              "      <td>1.0</td>\n",
              "      <td>0.0</td>\n",
              "      <td>160.000000</td>\n",
              "      <td>21.000000</td>\n",
              "      <td>22.000000</td>\n",
              "      <td>49.000000</td>\n",
              "      <td>29.000000</td>\n",
              "      <td>32.000000</td>\n",
              "      <td>38.000000</td>\n",
              "      <td>30.000000</td>\n",
              "      <td>0.000000</td>\n",
              "      <td>-1.000000</td>\n",
              "      <td>18.000000</td>\n",
              "      <td>292.000000</td>\n",
              "      <td>10.500000</td>\n",
              "      <td>19.000000</td>\n",
              "      <td>0.000000</td>\n",
              "      <td>2310.000000</td>\n",
              "    </tr>\n",
              "    <tr>\n",
              "      <th>75%</th>\n",
              "      <td>0.000000</td>\n",
              "      <td>1.0</td>\n",
              "      <td>0.0</td>\n",
              "      <td>348.000000</td>\n",
              "      <td>22.000000</td>\n",
              "      <td>23.000000</td>\n",
              "      <td>58.000000</td>\n",
              "      <td>35.000000</td>\n",
              "      <td>38.000000</td>\n",
              "      <td>47.000000</td>\n",
              "      <td>61.000000</td>\n",
              "      <td>0.000000</td>\n",
              "      <td>-1.000000</td>\n",
              "      <td>20.000000</td>\n",
              "      <td>292.000000</td>\n",
              "      <td>14.250000</td>\n",
              "      <td>22.000000</td>\n",
              "      <td>0.000000</td>\n",
              "      <td>3135.000000</td>\n",
              "    </tr>\n",
              "    <tr>\n",
              "      <th>max</th>\n",
              "      <td>44.000000</td>\n",
              "      <td>1.0</td>\n",
              "      <td>0.0</td>\n",
              "      <td>856.000000</td>\n",
              "      <td>25.000000</td>\n",
              "      <td>30.000000</td>\n",
              "      <td>75.000000</td>\n",
              "      <td>54.000000</td>\n",
              "      <td>76.000000</td>\n",
              "      <td>68.000000</td>\n",
              "      <td>80.000000</td>\n",
              "      <td>22.750000</td>\n",
              "      <td>1.000000</td>\n",
              "      <td>29.000000</td>\n",
              "      <td>312.000000</td>\n",
              "      <td>56.000000</td>\n",
              "      <td>31.000000</td>\n",
              "      <td>8.000000</td>\n",
              "      <td>12320.000000</td>\n",
              "    </tr>\n",
              "  </tbody>\n",
              "</table>\n",
              "</div>"
            ],
            "text/plain": [
              "       codigo_falha  controle_on_off_ihm  ...    erro_temp      potencia\n",
              "count   5296.000000               5296.0  ...  5296.000000   5296.000000\n",
              "mean       1.377266                  1.0  ...    -0.748301   1673.688633\n",
              "std        5.596543                  0.0  ...     2.545877   1544.335834\n",
              "min        0.000000                  1.0  ...   -14.000000      0.000000\n",
              "25%        0.000000                  1.0  ...    -1.000000      0.000000\n",
              "50%        0.000000                  1.0  ...     0.000000   2310.000000\n",
              "75%        0.000000                  1.0  ...     0.000000   3135.000000\n",
              "max       44.000000                  1.0  ...     8.000000  12320.000000\n",
              "\n",
              "[8 rows x 19 columns]"
            ]
          },
          "metadata": {},
          "execution_count": 10
        }
      ]
    },
    {
      "cell_type": "markdown",
      "metadata": {
        "id": "AqGR7Jt0AzZA"
      },
      "source": [
        "#7.Função de geração de imagem de correlação de variáveis"
      ]
    },
    {
      "cell_type": "code",
      "metadata": {
        "id": "wNTss7FNAx9v",
        "colab": {
          "base_uri": "https://localhost:8080/",
          "height": 511
        },
        "outputId": "57dce511-6936-477f-a0ad-2e3341c061c5"
      },
      "source": [
        "import seaborn as sns\n",
        "\n",
        "f, ax = plt.subplots(figsize=(8, 6))\n",
        "corr = df.corr()\n",
        "sns.heatmap(corr, mask=np.zeros_like(corr, dtype=np.bool), cmap=sns.diverging_palette(220, 10, as_cmap=True),\n",
        "            square=True, ax=ax)"
      ],
      "execution_count": null,
      "outputs": [
        {
          "output_type": "execute_result",
          "data": {
            "text/plain": [
              "<matplotlib.axes._subplots.AxesSubplot at 0x7fd461dd9a90>"
            ]
          },
          "metadata": {},
          "execution_count": 11
        },
        {
          "output_type": "display_data",
          "data": {
            "image/png": "[encoded data removed]",
            "text/plain": [
              "<Figure size 576x432 with 2 Axes>"
            ]
          },
          "metadata": {
            "needs_background": "light"
          }
        }
      ]
    },
    {
      "cell_type": "markdown",
      "metadata": {
        "id": "FdhUbq3Khy_j"
      },
      "source": [
        "Parte de código para inserção de anomalias manualmente para testar retorno do método"
      ]
    },
    {
      "cell_type": "code",
      "metadata": {
        "id": "7DvQj7FfnbGC",
        "colab": {
          "base_uri": "https://localhost:8080/"
        },
        "outputId": "86674859-07b0-4318-e092-12fa6a971d96"
      },
      "source": [
        "df.columns"
      ],
      "execution_count": null,
      "outputs": [
        {
          "output_type": "execute_result",
          "data": {
            "text/plain": [
              "Index(['time', 'codigo_falha', 'controle_on_off_ihm', 'corrente_comp1',\n",
              "       'rpm_condensador', 'temp_amb_retorno', 'setpoint_temp_ihm',\n",
              "       'temp_descarga_comp1', 'temp_meio_condensador', 'temp_descarga_comp2',\n",
              "       'temp_dissipador_calor', 'frequencia_compressor', 'corrente_comp2',\n",
              "       'modo_ihm', 'temp_succao', 'tensao_barramentoinv',\n",
              "       'corrente_compressor', 'temp_externa', 'erro_temp', 'potencia', 'hora'],\n",
              "      dtype='object')"
            ]
          },
          "metadata": {},
          "execution_count": 12
        }
      ]
    },
    {
      "cell_type": "code",
      "metadata": {
        "id": "Mu6Er_ZmXyBf"
      },
      "source": [
        "time = '2021-05-01 00:00:00.000000-03:00'\n",
        "data_inverter = {'time': [time, time, time, time, time],\n",
        "        'codigo_falha': [0,0,0,0,0],\n",
        "        'controle_on_off_ihm': [1,1,1,1,1],\n",
        "        'corrente_comp1': [0,0,0,0,0],\n",
        "        'rpm_condensador': [0,0,0,0,0],\n",
        "        'temp_amb_retorno': [22,22,22,22,22],\n",
        "        'setpoint_temp_ihm': [85,22,22,22,22], #\n",
        "        'temp_descarga_comp1': [22,22,22,22,22],\n",
        "        'temp_meio_condensador': [22,22,22,22,22],\n",
        "        'temp_descarga_comp2': [22,60,22,22,22], #\n",
        "        'temp_dissipador_calor': [22,22,90,22,22], #\n",
        "        'frequencia_compressor': [60,60,60,60,60], \n",
        "        'corrente_comp2': [0,0,0,0,0],\n",
        "        'modo_ihm': [1,1,1,1,1],\n",
        "        'temp_succao': [22,22,22,22,75], #\n",
        "        'tensao_barramentoinv': [292,292,292,292,292],\n",
        "        'corrente_compressor': [0,0,0,0,0],\n",
        "        'temp_externa': [22,22,22,22,75], #\n",
        "        'erro_temp': [0,0,0,0,0],\n",
        "        'potencia': [0,0,0,0,0],\n",
        "        'hora': '00'\n",
        "        }\n",
        "\n",
        "data_compressor3 = {'time': [time, time, time, time, time],\n",
        "        'frequencia_compressor': [60,60,60,60,60],   \n",
        "        'corrente_compressor': [0,0,0,0,0],          \n",
        "        'codigo_falha': [0,0,0,0,0],\n",
        "        'corrente_comp2': [0,0,0,0,0],\n",
        "        'corrente_comp1': [0,0,0,0,0],\n",
        "        'modo_ihm': [1,1,1,1,1],\n",
        "        'setpoint_temp_ihm': [85,22,22,22,22], #\n",
        "        'temp_succao': [22,22,22,22,75], #\n",
        "        'temp_dissipador_calor': [22,22,90,22,22], #\n",
        "        'temp_descarga_comp1': [22,22,22,22,22],\n",
        "        'rpm_condensador': [0,0,0,0,0],\n",
        "        'temp_meio_condensador': [22,22,22,22,22],\n",
        "        'temp_descarga_comp2': [22,60,22,22,22], #\n",
        "        'temp_amb_retorno': [22,22,22,22,22],\n",
        "        'controle_on_off_ihm': [1,1,1,1,1],\n",
        "        'erro_temp': [0,0,0,0,0],\n",
        "        'potencia': [0,0,0,0,0],\n",
        "        'hora': '00'\n",
        "        }\n",
        "\n",
        "if maquina_estudo == 'Inverter': data = data_inverter\n",
        "if maquina_estudo == 'Compressor 1': data = data_compressor3 ######\n",
        "if maquina_estudo == 'Compressor 3': data = data_compressor3\n",
        "\n",
        "df_aux1 = pd.DataFrame(data=data)\n",
        "\n",
        "df = df.append(df_aux1)\n",
        "df = df.reset_index(drop=True) "
      ],
      "execution_count": null,
      "outputs": []
    },
    {
      "cell_type": "markdown",
      "metadata": {
        "id": "z3ugVfEZkdwe"
      },
      "source": [
        "##X.2 Anomalias por Zscore e Zscore modificado"
      ]
    },
    {
      "cell_type": "code",
      "metadata": {
        "id": "wrGDfWfKewMi",
        "colab": {
          "base_uri": "https://localhost:8080/",
          "height": 143
        },
        "outputId": "cf961b5b-5745-418f-f0cb-c17454ee68e9"
      },
      "source": [
        "workdir_path = '/content/drive/My Drive/2. Greenole/9. Análises/00. Trabalho BI Master/2. Estudo dos dados/Imagens Geradas/Análise HVAC-BK/' + maquina_estudo\n",
        "\n",
        "df_stats_anomalies = pd.DataFrame()\n",
        "df_stats_anomalies_aux = pd.DataFrame()\n",
        "df_aux = df\n",
        "\n",
        "if 'hora' in df_aux.columns: df_aux = df_aux.drop(columns=['hora'],axis=1)\n",
        "if 'potencia' in df_aux.columns: df_aux = df_aux.drop(columns=['potencia'],axis=1)\n",
        "\n",
        "\n",
        "\n",
        "threshold_pos = 4     # limite positivo para ser considerado anomalia\n",
        "threshold_neg = -4    # limite negativo para ser considerado anomalia\n",
        "\n",
        "#df_stats_anomalies_aux = estudo_estatistico_anomalias(workdir_path,df_aux,'potencia')\n",
        "\n",
        "for variavel in df_aux.columns:\n",
        "  df_stats_anomalies_aux = estudo_estatistico_anomalias(workdir_path, df_aux, variavel, threshold_pos, threshold_neg)\n",
        "  if len(df_stats_anomalies_aux) > 0:\n",
        "    df_stats_anomalies = df_stats_anomalies.append(df_stats_anomalies_aux, ignore_index=True)\n",
        "\n",
        "\n",
        "# Parte que junta em um dataframe todas as anomalias\n",
        "\n",
        "# Zscore ou mod_zscore acima do limite\n",
        "df_stats_anomalies1 = df_stats_anomalies[df_stats_anomalies['zscore'] > threshold_pos]\n",
        "df_stats_anomalies2 = df_stats_anomalies[df_stats_anomalies['mod_zscore'] > threshold_pos]\n",
        "\n",
        "# Juntar dataframes\n",
        "df_stats_anomalies = pd.DataFrame()\n",
        "df_stats_anomalies = df_stats_anomalies.append(df_stats_anomalies1, ignore_index=True)\n",
        "df_stats_anomalies = df_stats_anomalies.append(df_stats_anomalies2, ignore_index=True)\n",
        "\n",
        "# Retirar infinitos\n",
        "df_stats_anomalies = df_stats_anomalies[np.isfinite(df_stats_anomalies['zscore'])]\n",
        "df_stats_anomalies = df_stats_anomalies[np.isfinite(df_stats_anomalies['mod_zscore'])]\n",
        "\n",
        "# Retirar Zscore ou mod_zscore abaixo do limite\n",
        "df_stats_anomalies = df_stats_anomalies.drop(df_stats_anomalies[df_stats_anomalies['zscore'] < threshold_pos].index)\n",
        "df_stats_anomalies = df_stats_anomalies.drop(df_stats_anomalies[df_stats_anomalies['mod_zscore'] < threshold_pos].index)\n",
        "\n",
        "# Excluindo duplicados\n",
        "df_stats_anomalies = df_stats_anomalies.drop_duplicates(subset=['zscore'])\n",
        "\n",
        "# Atualizando os indexes\n",
        "df_stats_anomalies = df_stats_anomalies.reset_index(drop=True) \n",
        "#df_stats_anomalies = df_stats_anomalies.drop(columns=['index'],axis=1)\n",
        "\n",
        "df_stats_anomalies.tail()"
      ],
      "execution_count": null,
      "outputs": [
        {
          "output_type": "execute_result",
          "data": {
            "text/html": [
              "<div>\n",
              "<style scoped>\n",
              "    .dataframe tbody tr th:only-of-type {\n",
              "        vertical-align: middle;\n",
              "    }\n",
              "\n",
              "    .dataframe tbody tr th {\n",
              "        vertical-align: top;\n",
              "    }\n",
              "\n",
              "    .dataframe thead th {\n",
              "        text-align: right;\n",
              "    }\n",
              "</style>\n",
              "<table border=\"1\" class=\"dataframe\">\n",
              "  <thead>\n",
              "    <tr style=\"text-align: right;\">\n",
              "      <th></th>\n",
              "      <th>time</th>\n",
              "      <th>valor</th>\n",
              "      <th>zscore</th>\n",
              "      <th>mod_zscore</th>\n",
              "      <th>variavel</th>\n",
              "    </tr>\n",
              "  </thead>\n",
              "  <tbody>\n",
              "    <tr>\n",
              "      <th>0</th>\n",
              "      <td>2021-05-21 06:06:53.456000-03:00</td>\n",
              "      <td>42.75</td>\n",
              "      <td>10.475165</td>\n",
              "      <td>15.513287</td>\n",
              "      <td>corrente_compressor</td>\n",
              "    </tr>\n",
              "    <tr>\n",
              "      <th>1</th>\n",
              "      <td>2021-06-05 01:52:05.210000-03:00</td>\n",
              "      <td>30.00</td>\n",
              "      <td>5.908033</td>\n",
              "      <td>8.633482</td>\n",
              "      <td>corrente_compressor</td>\n",
              "    </tr>\n",
              "    <tr>\n",
              "      <th>2</th>\n",
              "      <td>2021-07-19 03:35:43.584000-03:00</td>\n",
              "      <td>56.00</td>\n",
              "      <td>15.221399</td>\n",
              "      <td>22.662890</td>\n",
              "      <td>corrente_compressor</td>\n",
              "    </tr>\n",
              "  </tbody>\n",
              "</table>\n",
              "</div>"
            ],
            "text/plain": [
              "                              time  valor  ...  mod_zscore             variavel\n",
              "0 2021-05-21 06:06:53.456000-03:00  42.75  ...   15.513287  corrente_compressor\n",
              "1 2021-06-05 01:52:05.210000-03:00  30.00  ...    8.633482  corrente_compressor\n",
              "2 2021-07-19 03:35:43.584000-03:00  56.00  ...   22.662890  corrente_compressor\n",
              "\n",
              "[3 rows x 5 columns]"
            ]
          },
          "metadata": {},
          "execution_count": 13
        }
      ]
    },
    {
      "cell_type": "code",
      "metadata": {
        "id": "DdXn9UzbilUc",
        "colab": {
          "base_uri": "https://localhost:8080/",
          "height": 143
        },
        "outputId": "fe38bc50-b61e-4940-a555-eb77a3e0b4fb"
      },
      "source": [
        "df_stats_anomalies"
      ],
      "execution_count": null,
      "outputs": [
        {
          "output_type": "execute_result",
          "data": {
            "text/html": [
              "<div>\n",
              "<style scoped>\n",
              "    .dataframe tbody tr th:only-of-type {\n",
              "        vertical-align: middle;\n",
              "    }\n",
              "\n",
              "    .dataframe tbody tr th {\n",
              "        vertical-align: top;\n",
              "    }\n",
              "\n",
              "    .dataframe thead th {\n",
              "        text-align: right;\n",
              "    }\n",
              "</style>\n",
              "<table border=\"1\" class=\"dataframe\">\n",
              "  <thead>\n",
              "    <tr style=\"text-align: right;\">\n",
              "      <th></th>\n",
              "      <th>time</th>\n",
              "      <th>valor</th>\n",
              "      <th>zscore</th>\n",
              "      <th>mod_zscore</th>\n",
              "      <th>variavel</th>\n",
              "    </tr>\n",
              "  </thead>\n",
              "  <tbody>\n",
              "    <tr>\n",
              "      <th>0</th>\n",
              "      <td>2021-05-21 06:06:53.456000-03:00</td>\n",
              "      <td>42.75</td>\n",
              "      <td>10.475165</td>\n",
              "      <td>15.513287</td>\n",
              "      <td>corrente_compressor</td>\n",
              "    </tr>\n",
              "    <tr>\n",
              "      <th>1</th>\n",
              "      <td>2021-06-05 01:52:05.210000-03:00</td>\n",
              "      <td>30.00</td>\n",
              "      <td>5.908033</td>\n",
              "      <td>8.633482</td>\n",
              "      <td>corrente_compressor</td>\n",
              "    </tr>\n",
              "    <tr>\n",
              "      <th>2</th>\n",
              "      <td>2021-07-19 03:35:43.584000-03:00</td>\n",
              "      <td>56.00</td>\n",
              "      <td>15.221399</td>\n",
              "      <td>22.662890</td>\n",
              "      <td>corrente_compressor</td>\n",
              "    </tr>\n",
              "  </tbody>\n",
              "</table>\n",
              "</div>"
            ],
            "text/plain": [
              "                              time  valor  ...  mod_zscore             variavel\n",
              "0 2021-05-21 06:06:53.456000-03:00  42.75  ...   15.513287  corrente_compressor\n",
              "1 2021-06-05 01:52:05.210000-03:00  30.00  ...    8.633482  corrente_compressor\n",
              "2 2021-07-19 03:35:43.584000-03:00  56.00  ...   22.662890  corrente_compressor\n",
              "\n",
              "[3 rows x 5 columns]"
            ]
          },
          "metadata": {},
          "execution_count": 14
        }
      ]
    },
    {
      "cell_type": "code",
      "metadata": {
        "id": "JCUpNCLeiDve",
        "colab": {
          "base_uri": "https://localhost:8080/"
        },
        "outputId": "50bc83fa-b334-4216-f4dc-e58626e8b2ed"
      },
      "source": [
        "dados_anomalos_zs_time = df_stats_anomalies['time']\n",
        "dados_anomalos_zs_time"
      ],
      "execution_count": null,
      "outputs": [
        {
          "output_type": "execute_result",
          "data": {
            "text/plain": [
              "0   2021-05-21 06:06:53.456000-03:00\n",
              "1   2021-06-05 01:52:05.210000-03:00\n",
              "2   2021-07-19 03:35:43.584000-03:00\n",
              "Name: time, dtype: datetime64[ns, Etc/GMT+3]"
            ]
          },
          "metadata": {},
          "execution_count": 15
        }
      ]
    },
    {
      "cell_type": "code",
      "metadata": {
        "id": "KfJHVC3ZGdNq",
        "colab": {
          "base_uri": "https://localhost:8080/",
          "height": 143
        },
        "outputId": "5d143c6d-cff9-41c7-ed85-9e8407788a4d"
      },
      "source": [
        "df_stats_anomalies.tail()"
      ],
      "execution_count": null,
      "outputs": [
        {
          "output_type": "execute_result",
          "data": {
            "text/html": [
              "<div>\n",
              "<style scoped>\n",
              "    .dataframe tbody tr th:only-of-type {\n",
              "        vertical-align: middle;\n",
              "    }\n",
              "\n",
              "    .dataframe tbody tr th {\n",
              "        vertical-align: top;\n",
              "    }\n",
              "\n",
              "    .dataframe thead th {\n",
              "        text-align: right;\n",
              "    }\n",
              "</style>\n",
              "<table border=\"1\" class=\"dataframe\">\n",
              "  <thead>\n",
              "    <tr style=\"text-align: right;\">\n",
              "      <th></th>\n",
              "      <th>time</th>\n",
              "      <th>valor</th>\n",
              "      <th>zscore</th>\n",
              "      <th>mod_zscore</th>\n",
              "      <th>variavel</th>\n",
              "    </tr>\n",
              "  </thead>\n",
              "  <tbody>\n",
              "    <tr>\n",
              "      <th>0</th>\n",
              "      <td>2021-05-21 06:06:53.456000-03:00</td>\n",
              "      <td>42.75</td>\n",
              "      <td>10.475165</td>\n",
              "      <td>15.513287</td>\n",
              "      <td>corrente_compressor</td>\n",
              "    </tr>\n",
              "    <tr>\n",
              "      <th>1</th>\n",
              "      <td>2021-06-05 01:52:05.210000-03:00</td>\n",
              "      <td>30.00</td>\n",
              "      <td>5.908033</td>\n",
              "      <td>8.633482</td>\n",
              "      <td>corrente_compressor</td>\n",
              "    </tr>\n",
              "    <tr>\n",
              "      <th>2</th>\n",
              "      <td>2021-07-19 03:35:43.584000-03:00</td>\n",
              "      <td>56.00</td>\n",
              "      <td>15.221399</td>\n",
              "      <td>22.662890</td>\n",
              "      <td>corrente_compressor</td>\n",
              "    </tr>\n",
              "  </tbody>\n",
              "</table>\n",
              "</div>"
            ],
            "text/plain": [
              "                              time  valor  ...  mod_zscore             variavel\n",
              "0 2021-05-21 06:06:53.456000-03:00  42.75  ...   15.513287  corrente_compressor\n",
              "1 2021-06-05 01:52:05.210000-03:00  30.00  ...    8.633482  corrente_compressor\n",
              "2 2021-07-19 03:35:43.584000-03:00  56.00  ...   22.662890  corrente_compressor\n",
              "\n",
              "[3 rows x 5 columns]"
            ]
          },
          "metadata": {},
          "execution_count": 16
        }
      ]
    },
    {
      "cell_type": "code",
      "metadata": {
        "colab": {
          "base_uri": "https://localhost:8080/",
          "height": 81
        },
        "id": "qtLVye4XC5pg",
        "outputId": "c5652d51-acd6-4ad5-f409-974cc84fc0c4"
      },
      "source": [
        "# Quantidade de anomalias por variável\n",
        "\n",
        "df_qt_anomalies = pd.DataFrame()\n",
        "df_qt_anomalies['qt'] = df_stats_anomalies['variavel'].value_counts()\n",
        "df_qt_anomalies['variavel'] = df_qt_anomalies.index\n",
        "df_qt_anomalies = df_qt_anomalies[['variavel','qt']]\n",
        "df_qt_anomalies = df_qt_anomalies.reset_index() # atualizando os indexes\n",
        "df_qt_anomalies = df_qt_anomalies.drop(columns=['index'],axis=1)\n",
        "df_qt_anomalies"
      ],
      "execution_count": null,
      "outputs": [
        {
          "output_type": "execute_result",
          "data": {
            "text/html": [
              "<div>\n",
              "<style scoped>\n",
              "    .dataframe tbody tr th:only-of-type {\n",
              "        vertical-align: middle;\n",
              "    }\n",
              "\n",
              "    .dataframe tbody tr th {\n",
              "        vertical-align: top;\n",
              "    }\n",
              "\n",
              "    .dataframe thead th {\n",
              "        text-align: right;\n",
              "    }\n",
              "</style>\n",
              "<table border=\"1\" class=\"dataframe\">\n",
              "  <thead>\n",
              "    <tr style=\"text-align: right;\">\n",
              "      <th></th>\n",
              "      <th>variavel</th>\n",
              "      <th>qt</th>\n",
              "    </tr>\n",
              "  </thead>\n",
              "  <tbody>\n",
              "    <tr>\n",
              "      <th>0</th>\n",
              "      <td>corrente_compressor</td>\n",
              "      <td>3</td>\n",
              "    </tr>\n",
              "  </tbody>\n",
              "</table>\n",
              "</div>"
            ],
            "text/plain": [
              "              variavel  qt\n",
              "0  corrente_compressor   3"
            ]
          },
          "metadata": {},
          "execution_count": 17
        }
      ]
    },
    {
      "cell_type": "code",
      "metadata": {
        "id": "2Y1tn-fU76L9",
        "colab": {
          "base_uri": "https://localhost:8080/",
          "height": 143
        },
        "outputId": "75053f8d-ffdc-40d4-a77b-9afcc2139429"
      },
      "source": [
        "df_stats_anomalies.head(25)"
      ],
      "execution_count": null,
      "outputs": [
        {
          "output_type": "execute_result",
          "data": {
            "text/html": [
              "<div>\n",
              "<style scoped>\n",
              "    .dataframe tbody tr th:only-of-type {\n",
              "        vertical-align: middle;\n",
              "    }\n",
              "\n",
              "    .dataframe tbody tr th {\n",
              "        vertical-align: top;\n",
              "    }\n",
              "\n",
              "    .dataframe thead th {\n",
              "        text-align: right;\n",
              "    }\n",
              "</style>\n",
              "<table border=\"1\" class=\"dataframe\">\n",
              "  <thead>\n",
              "    <tr style=\"text-align: right;\">\n",
              "      <th></th>\n",
              "      <th>time</th>\n",
              "      <th>valor</th>\n",
              "      <th>zscore</th>\n",
              "      <th>mod_zscore</th>\n",
              "      <th>variavel</th>\n",
              "    </tr>\n",
              "  </thead>\n",
              "  <tbody>\n",
              "    <tr>\n",
              "      <th>0</th>\n",
              "      <td>2021-05-21 06:06:53.456000-03:00</td>\n",
              "      <td>42.75</td>\n",
              "      <td>10.475165</td>\n",
              "      <td>15.513287</td>\n",
              "      <td>corrente_compressor</td>\n",
              "    </tr>\n",
              "    <tr>\n",
              "      <th>1</th>\n",
              "      <td>2021-06-05 01:52:05.210000-03:00</td>\n",
              "      <td>30.00</td>\n",
              "      <td>5.908033</td>\n",
              "      <td>8.633482</td>\n",
              "      <td>corrente_compressor</td>\n",
              "    </tr>\n",
              "    <tr>\n",
              "      <th>2</th>\n",
              "      <td>2021-07-19 03:35:43.584000-03:00</td>\n",
              "      <td>56.00</td>\n",
              "      <td>15.221399</td>\n",
              "      <td>22.662890</td>\n",
              "      <td>corrente_compressor</td>\n",
              "    </tr>\n",
              "  </tbody>\n",
              "</table>\n",
              "</div>"
            ],
            "text/plain": [
              "                              time  valor  ...  mod_zscore             variavel\n",
              "0 2021-05-21 06:06:53.456000-03:00  42.75  ...   15.513287  corrente_compressor\n",
              "1 2021-06-05 01:52:05.210000-03:00  30.00  ...    8.633482  corrente_compressor\n",
              "2 2021-07-19 03:35:43.584000-03:00  56.00  ...   22.662890  corrente_compressor\n",
              "\n",
              "[3 rows x 5 columns]"
            ]
          },
          "metadata": {},
          "execution_count": 18
        }
      ]
    },
    {
      "cell_type": "markdown",
      "metadata": {
        "id": "La1jrPDRZb_F"
      },
      "source": [
        "##X.3 Anomalias por DBSCAN\n"
      ]
    },
    {
      "cell_type": "code",
      "metadata": {
        "id": "GCPRsSwpI2Sw"
      },
      "source": [
        "# Anomalias de potência por DBSCAN\n",
        "\n",
        "def dbscan_anomalies(df):\n",
        "\n",
        "  df_dbscan = df\n",
        "\n",
        "  if 'time' in df_dbscan.columns: df_dbscan = df_dbscan.drop(columns=['time'],axis=1)\n",
        "  if 'hora' in df_dbscan.columns: df_dbscan = df_dbscan.drop(columns=['hora'],axis=1)\n",
        "  if 'codigo_falha' in df_dbscan.columns: df_dbscan = df_dbscan.drop(columns=['codigo_falha'],axis=1)\n",
        "  if 'controle_on_off_ihm' in df_dbscan.columns: df_dbscan = df_dbscan.drop(columns=['controle_on_off_ihm'],axis=1)\n",
        "  if 'modo_ihm' in df_dbscan.columns: df_dbscan = df_dbscan.drop(columns=['modo_ihm'],axis=1)\n",
        "  if 'setpoint_temp_ihm' in df_dbscan.columns: df_dbscan = df_dbscan.drop(columns=['setpoint_temp_ihm'],axis=1)\n",
        "  #if 'temp_externa' in df_dbscan.columns: df_dbscan = df_dbscan.drop(columns=['temp_externa'],axis=1)\n",
        "  if 'erro_temp' in df_dbscan.columns: df_dbscan = df_dbscan.drop(columns=['erro_temp'],axis=1)\n",
        "  if 'potencia' in df_dbscan.columns: df_dbscan = df_dbscan.drop(columns=['potencia'],axis=1)\n",
        "\n",
        "  df_dbscan = df_dbscan.reset_index(drop=True) # atualizando os indexes\n",
        "\n",
        "\n",
        "  X_normalized = sklearn.preprocessing.normalize(df_dbscan, norm='l2', axis=0)\n",
        "  df_dbscan_norm = pd.DataFrame(X_normalized,columns=df_dbscan.columns)\n",
        "\n",
        "\n",
        "  #__________________________________________________________\n",
        "  # Aplicando o DBSCAN\n",
        "\n",
        "  db = DBSCAN(eps=0.01, min_samples=10)\n",
        "  db.fit(df_dbscan_norm)\n",
        "  y_pred = db.fit_predict(df_dbscan_norm)\n",
        "  df_dbscan_norm['dbscan_anomally'] = db.labels_\n",
        "\n",
        "  df_dbscan['dbscan_anomally'] = db.labels_ ### usado como referência de anomalia no Isolation Forest\n",
        "\n",
        "\n",
        "\n",
        "  for i in range(len(df_dbscan_norm['dbscan_anomally'])):\n",
        "    if df_dbscan_norm['dbscan_anomally'][i] != -1:\n",
        "      df_dbscan_norm['dbscan_anomally'][i] = 0\n",
        "    else: df_dbscan_norm['dbscan_anomally'][i] = 1\n",
        "    \n",
        "    if df_dbscan['dbscan_anomally'][i] != -1:\n",
        "      df_dbscan['dbscan_anomally'][i] = 0\n",
        "    else: df_dbscan['dbscan_anomally'][i] = 1\n",
        "\n",
        "\n",
        "\n",
        "  df_dbscan_norm['time'] = df['time']\n",
        "  df_dbscan['time'] = df['time']\n",
        "\n",
        "\n",
        "  \n",
        "  return df_dbscan, df_dbscan_norm"
      ],
      "execution_count": null,
      "outputs": []
    },
    {
      "cell_type": "code",
      "metadata": {
        "id": "eoC4G10uPzJm"
      },
      "source": [
        "df_dbscan, df_dbscan_norm = dbscan_anomalies(df)"
      ],
      "execution_count": null,
      "outputs": []
    },
    {
      "cell_type": "code",
      "metadata": {
        "id": "rDz_I9yAQK2H",
        "colab": {
          "base_uri": "https://localhost:8080/",
          "height": 531
        },
        "outputId": "099241c2-4414-4190-85c7-9d1a783bd852"
      },
      "source": [
        "anomalias_norm = df_dbscan_norm['dbscan_anomally'].index[df_dbscan_norm['dbscan_anomally'] == 1]\n",
        "anomalias_norm = df_dbscan_norm.iloc[anomalias_norm.to_list()]\n",
        "anomalias_norm"
      ],
      "execution_count": null,
      "outputs": [
        {
          "output_type": "execute_result",
          "data": {
            "text/html": [
              "<div>\n",
              "<style scoped>\n",
              "    .dataframe tbody tr th:only-of-type {\n",
              "        vertical-align: middle;\n",
              "    }\n",
              "\n",
              "    .dataframe tbody tr th {\n",
              "        vertical-align: top;\n",
              "    }\n",
              "\n",
              "    .dataframe thead th {\n",
              "        text-align: right;\n",
              "    }\n",
              "</style>\n",
              "<table border=\"1\" class=\"dataframe\">\n",
              "  <thead>\n",
              "    <tr style=\"text-align: right;\">\n",
              "      <th></th>\n",
              "      <th>corrente_comp1</th>\n",
              "      <th>rpm_condensador</th>\n",
              "      <th>temp_amb_retorno</th>\n",
              "      <th>temp_descarga_comp1</th>\n",
              "      <th>temp_meio_condensador</th>\n",
              "      <th>temp_descarga_comp2</th>\n",
              "      <th>temp_dissipador_calor</th>\n",
              "      <th>frequencia_compressor</th>\n",
              "      <th>corrente_comp2</th>\n",
              "      <th>temp_succao</th>\n",
              "      <th>tensao_barramentoinv</th>\n",
              "      <th>corrente_compressor</th>\n",
              "      <th>temp_externa</th>\n",
              "      <th>dbscan_anomally</th>\n",
              "      <th>time</th>\n",
              "    </tr>\n",
              "  </thead>\n",
              "  <tbody>\n",
              "    <tr>\n",
              "      <th>31</th>\n",
              "      <td>0.0</td>\n",
              "      <td>0.028156</td>\n",
              "      <td>0.014968</td>\n",
              "      <td>0.012143</td>\n",
              "      <td>0.018241</td>\n",
              "      <td>0.016860</td>\n",
              "      <td>0.015584</td>\n",
              "      <td>0.024749</td>\n",
              "      <td>0.052806</td>\n",
              "      <td>0.005255</td>\n",
              "      <td>0.013514</td>\n",
              "      <td>0.021572</td>\n",
              "      <td>0.014408</td>\n",
              "      <td>1</td>\n",
              "      <td>2021-05-01 10:29:55.668000-03:00</td>\n",
              "    </tr>\n",
              "    <tr>\n",
              "      <th>139</th>\n",
              "      <td>0.0</td>\n",
              "      <td>0.028524</td>\n",
              "      <td>0.014968</td>\n",
              "      <td>0.006071</td>\n",
              "      <td>0.008419</td>\n",
              "      <td>0.007627</td>\n",
              "      <td>0.008500</td>\n",
              "      <td>0.000000</td>\n",
              "      <td>0.000000</td>\n",
              "      <td>0.014264</td>\n",
              "      <td>0.013894</td>\n",
              "      <td>0.027214</td>\n",
              "      <td>0.012350</td>\n",
              "      <td>1</td>\n",
              "      <td>2021-05-02 23:53:08.688000-03:00</td>\n",
              "    </tr>\n",
              "    <tr>\n",
              "      <th>1286</th>\n",
              "      <td>0.0</td>\n",
              "      <td>0.028340</td>\n",
              "      <td>0.013016</td>\n",
              "      <td>0.007286</td>\n",
              "      <td>0.008886</td>\n",
              "      <td>0.008430</td>\n",
              "      <td>0.009917</td>\n",
              "      <td>0.000000</td>\n",
              "      <td>0.000000</td>\n",
              "      <td>0.014264</td>\n",
              "      <td>0.013894</td>\n",
              "      <td>0.056752</td>\n",
              "      <td>0.011664</td>\n",
              "      <td>1</td>\n",
              "      <td>2021-05-21 06:06:53.456000-03:00</td>\n",
              "    </tr>\n",
              "    <tr>\n",
              "      <th>1445</th>\n",
              "      <td>0.0</td>\n",
              "      <td>0.025948</td>\n",
              "      <td>0.012365</td>\n",
              "      <td>0.017000</td>\n",
              "      <td>0.013564</td>\n",
              "      <td>0.020473</td>\n",
              "      <td>0.013459</td>\n",
              "      <td>0.000000</td>\n",
              "      <td>0.000000</td>\n",
              "      <td>0.011261</td>\n",
              "      <td>0.013894</td>\n",
              "      <td>0.000000</td>\n",
              "      <td>0.015094</td>\n",
              "      <td>1</td>\n",
              "      <td>2021-05-23 13:04:22.750000-03:00</td>\n",
              "    </tr>\n",
              "    <tr>\n",
              "      <th>1946</th>\n",
              "      <td>0.0</td>\n",
              "      <td>0.028340</td>\n",
              "      <td>0.013666</td>\n",
              "      <td>0.009714</td>\n",
              "      <td>0.011225</td>\n",
              "      <td>0.011642</td>\n",
              "      <td>0.011688</td>\n",
              "      <td>0.000000</td>\n",
              "      <td>0.000000</td>\n",
              "      <td>0.015766</td>\n",
              "      <td>0.013894</td>\n",
              "      <td>0.056752</td>\n",
              "      <td>0.015781</td>\n",
              "      <td>1</td>\n",
              "      <td>2021-05-31 15:24:11.706000-03:00</td>\n",
              "    </tr>\n",
              "    <tr>\n",
              "      <th>2231</th>\n",
              "      <td>0.0</td>\n",
              "      <td>0.028156</td>\n",
              "      <td>0.014968</td>\n",
              "      <td>0.006982</td>\n",
              "      <td>0.009822</td>\n",
              "      <td>0.008832</td>\n",
              "      <td>0.009563</td>\n",
              "      <td>0.005569</td>\n",
              "      <td>0.000000</td>\n",
              "      <td>0.016517</td>\n",
              "      <td>0.013894</td>\n",
              "      <td>0.039826</td>\n",
              "      <td>0.013722</td>\n",
              "      <td>1</td>\n",
              "      <td>2021-06-05 01:52:05.210000-03:00</td>\n",
              "    </tr>\n",
              "    <tr>\n",
              "      <th>4829</th>\n",
              "      <td>0.0</td>\n",
              "      <td>0.028156</td>\n",
              "      <td>0.013016</td>\n",
              "      <td>0.006375</td>\n",
              "      <td>0.007016</td>\n",
              "      <td>0.006824</td>\n",
              "      <td>0.006021</td>\n",
              "      <td>0.000000</td>\n",
              "      <td>0.000000</td>\n",
              "      <td>0.011261</td>\n",
              "      <td>0.014465</td>\n",
              "      <td>0.074341</td>\n",
              "      <td>0.008233</td>\n",
              "      <td>1</td>\n",
              "      <td>2021-07-19 03:35:43.584000-03:00</td>\n",
              "    </tr>\n",
              "  </tbody>\n",
              "</table>\n",
              "</div>"
            ],
            "text/plain": [
              "      corrente_comp1  ...                             time\n",
              "31               0.0  ... 2021-05-01 10:29:55.668000-03:00\n",
              "139              0.0  ... 2021-05-02 23:53:08.688000-03:00\n",
              "1286             0.0  ... 2021-05-21 06:06:53.456000-03:00\n",
              "1445             0.0  ... 2021-05-23 13:04:22.750000-03:00\n",
              "1946             0.0  ... 2021-05-31 15:24:11.706000-03:00\n",
              "2231             0.0  ... 2021-06-05 01:52:05.210000-03:00\n",
              "4829             0.0  ... 2021-07-19 03:35:43.584000-03:00\n",
              "\n",
              "[7 rows x 15 columns]"
            ]
          },
          "metadata": {},
          "execution_count": 21
        }
      ]
    },
    {
      "cell_type": "code",
      "metadata": {
        "colab": {
          "base_uri": "https://localhost:8080/"
        },
        "id": "JzCVwROAl2Iq",
        "outputId": "a934fe7f-d064-4621-8cc2-97127ef44d77"
      },
      "source": [
        "df_dbscan['dbscan_anomally'].value_counts()"
      ],
      "execution_count": null,
      "outputs": [
        {
          "output_type": "execute_result",
          "data": {
            "text/plain": [
              "0    5289\n",
              "1       7\n",
              "Name: dbscan_anomally, dtype: int64"
            ]
          },
          "metadata": {},
          "execution_count": 22
        }
      ]
    },
    {
      "cell_type": "code",
      "metadata": {
        "id": "rItah2OJ3Kyx",
        "colab": {
          "base_uri": "https://localhost:8080/"
        },
        "outputId": "413e54ff-c058-4c72-d7d2-7cb430043425"
      },
      "source": [
        "anomalias = df.iloc[anomalias_norm.index]\n",
        "anomalias['time']"
      ],
      "execution_count": null,
      "outputs": [
        {
          "output_type": "execute_result",
          "data": {
            "text/plain": [
              "31     2021-05-01 10:29:55.668000-03:00\n",
              "139    2021-05-02 23:53:08.688000-03:00\n",
              "1286   2021-05-21 06:06:53.456000-03:00\n",
              "1445   2021-05-23 13:04:22.750000-03:00\n",
              "1946   2021-05-31 15:24:11.706000-03:00\n",
              "2231   2021-06-05 01:52:05.210000-03:00\n",
              "4829   2021-07-19 03:35:43.584000-03:00\n",
              "Name: time, dtype: datetime64[ns, Etc/GMT+3]"
            ]
          },
          "metadata": {},
          "execution_count": 23
        }
      ]
    },
    {
      "cell_type": "code",
      "metadata": {
        "id": "X6VO1xYjKtrw"
      },
      "source": [
        "\n",
        "#plt.figure(figsize=(8,5))\n",
        "#plt.scatter(df_dbscan_norm['temp_descarga_comp2'], df_dbscan_norm['temp_dissipador_calor'],c=y_pred, cmap='Paired')\n",
        "#plt.scatter(df_dbscan_norm['corrente_compressor'], df_dbscan_norm['temp_descarga_comp1'],c=y_pred, cmap='Paired')\n",
        "#plt.title(\"Clusters determined by DBSCAN\")"
      ],
      "execution_count": null,
      "outputs": []
    },
    {
      "cell_type": "markdown",
      "metadata": {
        "id": "mBNCOCYw9bdW"
      },
      "source": [
        "##X.4 Geração de dados sintéticos para treinamento supervisionado"
      ]
    },
    {
      "cell_type": "code",
      "metadata": {
        "id": "GjnzoX-4xv8A"
      },
      "source": [
        "from random import seed\n",
        "from random import random, uniform"
      ],
      "execution_count": null,
      "outputs": []
    },
    {
      "cell_type": "code",
      "metadata": {
        "colab": {
          "base_uri": "https://localhost:8080/"
        },
        "id": "or366V822IWn",
        "outputId": "2c01d44f-31af-4486-f322-aacabd7ee582"
      },
      "source": [
        "df_dbscan.columns"
      ],
      "execution_count": null,
      "outputs": [
        {
          "output_type": "execute_result",
          "data": {
            "text/plain": [
              "Index(['corrente_comp1', 'rpm_condensador', 'temp_amb_retorno',\n",
              "       'temp_descarga_comp1', 'temp_meio_condensador', 'temp_descarga_comp2',\n",
              "       'temp_dissipador_calor', 'frequencia_compressor', 'corrente_comp2',\n",
              "       'temp_succao', 'tensao_barramentoinv', 'corrente_compressor',\n",
              "       'temp_externa', 'dbscan_anomally', 'time'],\n",
              "      dtype='object')"
            ]
          },
          "metadata": {},
          "execution_count": 25
        }
      ]
    },
    {
      "cell_type": "code",
      "metadata": {
        "id": "KJ1kDD7Z3Zpc",
        "colab": {
          "base_uri": "https://localhost:8080/",
          "height": 399
        },
        "outputId": "b2ca2977-00be-4160-b188-a879e2027dba"
      },
      "source": [
        "df.tail()"
      ],
      "execution_count": null,
      "outputs": [
        {
          "output_type": "execute_result",
          "data": {
            "text/html": [
              "<div>\n",
              "<style scoped>\n",
              "    .dataframe tbody tr th:only-of-type {\n",
              "        vertical-align: middle;\n",
              "    }\n",
              "\n",
              "    .dataframe tbody tr th {\n",
              "        vertical-align: top;\n",
              "    }\n",
              "\n",
              "    .dataframe thead th {\n",
              "        text-align: right;\n",
              "    }\n",
              "</style>\n",
              "<table border=\"1\" class=\"dataframe\">\n",
              "  <thead>\n",
              "    <tr style=\"text-align: right;\">\n",
              "      <th></th>\n",
              "      <th>time</th>\n",
              "      <th>codigo_falha</th>\n",
              "      <th>controle_on_off_ihm</th>\n",
              "      <th>corrente_comp1</th>\n",
              "      <th>rpm_condensador</th>\n",
              "      <th>temp_amb_retorno</th>\n",
              "      <th>setpoint_temp_ihm</th>\n",
              "      <th>temp_descarga_comp1</th>\n",
              "      <th>temp_meio_condensador</th>\n",
              "      <th>temp_descarga_comp2</th>\n",
              "      <th>temp_dissipador_calor</th>\n",
              "      <th>frequencia_compressor</th>\n",
              "      <th>corrente_comp2</th>\n",
              "      <th>modo_ihm</th>\n",
              "      <th>temp_succao</th>\n",
              "      <th>tensao_barramentoinv</th>\n",
              "      <th>corrente_compressor</th>\n",
              "      <th>temp_externa</th>\n",
              "      <th>erro_temp</th>\n",
              "      <th>potencia</th>\n",
              "      <th>hora</th>\n",
              "    </tr>\n",
              "  </thead>\n",
              "  <tbody>\n",
              "    <tr>\n",
              "      <th>5291</th>\n",
              "      <td>2021-07-29 20:40:44.181000-03:00</td>\n",
              "      <td>0</td>\n",
              "      <td>1.0</td>\n",
              "      <td>0.0</td>\n",
              "      <td>0.0</td>\n",
              "      <td>17.0</td>\n",
              "      <td>30.0</td>\n",
              "      <td>9.0</td>\n",
              "      <td>8.0</td>\n",
              "      <td>9.0</td>\n",
              "      <td>13.0</td>\n",
              "      <td>0.0</td>\n",
              "      <td>0.0</td>\n",
              "      <td>-1.0</td>\n",
              "      <td>9.0</td>\n",
              "      <td>292.0</td>\n",
              "      <td>0.0</td>\n",
              "      <td>8.0</td>\n",
              "      <td>-13.0</td>\n",
              "      <td>0.0</td>\n",
              "      <td>20</td>\n",
              "    </tr>\n",
              "    <tr>\n",
              "      <th>5292</th>\n",
              "      <td>2021-07-29 20:55:44.164000-03:00</td>\n",
              "      <td>0</td>\n",
              "      <td>1.0</td>\n",
              "      <td>0.0</td>\n",
              "      <td>0.0</td>\n",
              "      <td>17.0</td>\n",
              "      <td>30.0</td>\n",
              "      <td>9.0</td>\n",
              "      <td>8.0</td>\n",
              "      <td>9.0</td>\n",
              "      <td>13.0</td>\n",
              "      <td>0.0</td>\n",
              "      <td>0.0</td>\n",
              "      <td>-1.0</td>\n",
              "      <td>9.0</td>\n",
              "      <td>292.0</td>\n",
              "      <td>0.0</td>\n",
              "      <td>8.0</td>\n",
              "      <td>-13.0</td>\n",
              "      <td>0.0</td>\n",
              "      <td>20</td>\n",
              "    </tr>\n",
              "    <tr>\n",
              "      <th>5293</th>\n",
              "      <td>2021-07-29 21:10:44.161000-03:00</td>\n",
              "      <td>0</td>\n",
              "      <td>1.0</td>\n",
              "      <td>0.0</td>\n",
              "      <td>0.0</td>\n",
              "      <td>17.0</td>\n",
              "      <td>30.0</td>\n",
              "      <td>8.0</td>\n",
              "      <td>8.0</td>\n",
              "      <td>9.0</td>\n",
              "      <td>13.0</td>\n",
              "      <td>0.0</td>\n",
              "      <td>0.0</td>\n",
              "      <td>-1.0</td>\n",
              "      <td>9.0</td>\n",
              "      <td>292.0</td>\n",
              "      <td>0.0</td>\n",
              "      <td>8.0</td>\n",
              "      <td>-13.0</td>\n",
              "      <td>0.0</td>\n",
              "      <td>21</td>\n",
              "    </tr>\n",
              "    <tr>\n",
              "      <th>5294</th>\n",
              "      <td>2021-07-29 21:40:44.181000-03:00</td>\n",
              "      <td>0</td>\n",
              "      <td>1.0</td>\n",
              "      <td>0.0</td>\n",
              "      <td>0.0</td>\n",
              "      <td>17.0</td>\n",
              "      <td>30.0</td>\n",
              "      <td>8.0</td>\n",
              "      <td>8.0</td>\n",
              "      <td>9.0</td>\n",
              "      <td>13.0</td>\n",
              "      <td>0.0</td>\n",
              "      <td>0.0</td>\n",
              "      <td>-1.0</td>\n",
              "      <td>8.0</td>\n",
              "      <td>292.0</td>\n",
              "      <td>0.0</td>\n",
              "      <td>8.0</td>\n",
              "      <td>-13.0</td>\n",
              "      <td>0.0</td>\n",
              "      <td>21</td>\n",
              "    </tr>\n",
              "    <tr>\n",
              "      <th>5295</th>\n",
              "      <td>2021-07-29 22:10:44.198000-03:00</td>\n",
              "      <td>0</td>\n",
              "      <td>1.0</td>\n",
              "      <td>0.0</td>\n",
              "      <td>0.0</td>\n",
              "      <td>16.0</td>\n",
              "      <td>30.0</td>\n",
              "      <td>8.0</td>\n",
              "      <td>8.0</td>\n",
              "      <td>9.0</td>\n",
              "      <td>13.0</td>\n",
              "      <td>0.0</td>\n",
              "      <td>0.0</td>\n",
              "      <td>0.0</td>\n",
              "      <td>8.0</td>\n",
              "      <td>292.0</td>\n",
              "      <td>0.0</td>\n",
              "      <td>7.0</td>\n",
              "      <td>-14.0</td>\n",
              "      <td>0.0</td>\n",
              "      <td>22</td>\n",
              "    </tr>\n",
              "  </tbody>\n",
              "</table>\n",
              "</div>"
            ],
            "text/plain": [
              "                                 time  codigo_falha  ...  potencia  hora\n",
              "5291 2021-07-29 20:40:44.181000-03:00             0  ...       0.0    20\n",
              "5292 2021-07-29 20:55:44.164000-03:00             0  ...       0.0    20\n",
              "5293 2021-07-29 21:10:44.161000-03:00             0  ...       0.0    21\n",
              "5294 2021-07-29 21:40:44.181000-03:00             0  ...       0.0    21\n",
              "5295 2021-07-29 22:10:44.198000-03:00             0  ...       0.0    22\n",
              "\n",
              "[5 rows x 21 columns]"
            ]
          },
          "metadata": {},
          "execution_count": 26
        }
      ]
    },
    {
      "cell_type": "code",
      "metadata": {
        "id": "cJXEVTjx0pKk"
      },
      "source": [
        "seed(1)\n",
        "\n",
        "df_dbscan_resampled = df_dbscan # dataframe com dados já rotulados\n",
        "\n",
        "\n",
        "corrente_comp1 = 0\n",
        "rpm_condensador_array = [400, 1200]\n",
        "temp_amb_retorno = 22\n",
        "setpoint_temp_ihm = 22\n",
        "temp_descarga_comp1_array = [60,120]\n",
        "temp_meio_condensador_array = [30,100]\n",
        "temp_descarga_comp2_array = [70,120]\n",
        "temp_dissipador_calor_array = [40,120]\n",
        "frequencia_compressor_array = [60,120]\n",
        "corrente_comp2_array = [20,50]\n",
        "temp_succao_array = [20,60]\n",
        "tensao_barramentoinv_array = [290,400]\n",
        "corrente_compressor_array = [18,45]\n",
        "temp_externa = 25\n",
        "time = '2021-05-01 00:00:00.000000-03:00'\n",
        "\n",
        "\n",
        "for i in range(0,4001):\n",
        "\n",
        "  if str(i)[-1] == '0':\n",
        "    rpm_condensador = rpm_condensador_array[1] * uniform(0.8,1.2)\n",
        "  else: \n",
        "    rpm_condensador = rpm_condensador_array[0]\n",
        "  if str(i)[-1] == '1': \n",
        "    temp_descarga_comp1 = temp_descarga_comp1_array[1] * uniform(0.8,1.2) \n",
        "  else: \n",
        "    temp_descarga_comp1 = temp_descarga_comp1_array[0]\n",
        "  if str(i)[-1] == '2': \n",
        "    temp_meio_condensador = temp_meio_condensador_array[1] * uniform(0.8,1.2) \n",
        "  else: \n",
        "      temp_meio_condensador = temp_meio_condensador_array[0]\n",
        "  if str(i)[-1] == '3': \n",
        "    temp_descarga_comp2 = temp_descarga_comp2_array[1] * uniform(0.8,1.2) \n",
        "  else: \n",
        "      temp_descarga_comp2 = temp_descarga_comp2_array[0]\n",
        "  if str(i)[-1] == '4': \n",
        "    temp_dissipador_calor = temp_dissipador_calor_array[1] * uniform(0.8,1.2) \n",
        "  else: \n",
        "      temp_dissipador_calor = temp_dissipador_calor_array[0]\n",
        "  if str(i)[-1] == '5': \n",
        "    frequencia_compressor = frequencia_compressor_array[1] * uniform(0.8,1.2) \n",
        "  else: \n",
        "      frequencia_compressor = frequencia_compressor_array[0]\n",
        "  if str(i)[-1] == '6': \n",
        "    corrente_comp2 = corrente_comp2_array[1] * uniform(0.8,1.2) \n",
        "  else: \n",
        "      corrente_comp2 = corrente_comp2_array[0]\n",
        "  if str(i)[-1] == '7': \n",
        "    temp_succao = temp_succao_array[1] * uniform(0.8,1.2) \n",
        "  else: \n",
        "      temp_succao = temp_succao_array[0]\n",
        "  if str(i)[-1] == '8': \n",
        "    tensao_barramentoinv = tensao_barramentoinv_array[1] * uniform(0.8,1.2) \n",
        "  else: \n",
        "      tensao_barramentoinv = tensao_barramentoinv_array[0]\n",
        "  if str(i)[-1] == '9': \n",
        "    corrente_compressor = corrente_compressor_array[1] * uniform(0.8,1.2) \n",
        "  else: \n",
        "      corrente_compressor = corrente_compressor_array[0]\n",
        "\n",
        "  data_inverter = {\n",
        "        'corrente_comp1': corrente_comp1,\n",
        "        'rpm_condensador': rpm_condensador,\n",
        "        'temp_amb_retorno': temp_amb_retorno,\n",
        "        'temp_descarga_comp1': temp_descarga_comp1,\n",
        "        'temp_meio_condensador': temp_meio_condensador,\n",
        "        'temp_descarga_comp2': temp_descarga_comp2,\n",
        "        'temp_dissipador_calor': temp_dissipador_calor,\n",
        "        'frequencia_compressor': frequencia_compressor, \n",
        "        'corrente_comp2': corrente_comp2,\n",
        "        'temp_succao': temp_succao,\n",
        "        'tensao_barramentoinv': tensao_barramentoinv,\n",
        "        'corrente_compressor': corrente_compressor,\n",
        "        'temp_externa': temp_externa,\n",
        "        'dbscan_anomally': 1,\n",
        "        'time': time,\n",
        "  }\n",
        "  \n",
        "  #print(data_inverter)\n",
        "\n",
        "  df_aux2 = pd.DataFrame(data=data_inverter, index=[0])\n",
        "\n",
        "  df_dbscan_resampled = df_dbscan_resampled.append(df_aux2)\n",
        "\n",
        "\n",
        "df_dbscan_resampled = df_dbscan_resampled.reset_index(drop=True) "
      ],
      "execution_count": null,
      "outputs": []
    },
    {
      "cell_type": "code",
      "metadata": {
        "colab": {
          "base_uri": "https://localhost:8080/"
        },
        "id": "bjuNrFJqRsVL",
        "outputId": "1510c5fc-9e10-4281-a202-b4f342a116d2"
      },
      "source": [
        "df_dbscan_resampled['dbscan_anomally'].value_counts()"
      ],
      "execution_count": null,
      "outputs": [
        {
          "output_type": "execute_result",
          "data": {
            "text/plain": [
              "0    5289\n",
              "1    4008\n",
              "Name: dbscan_anomally, dtype: int64"
            ]
          },
          "metadata": {},
          "execution_count": 28
        }
      ]
    },
    {
      "cell_type": "code",
      "metadata": {
        "id": "UT48Uw_8LrcB",
        "colab": {
          "base_uri": "https://localhost:8080/",
          "height": 283
        },
        "outputId": "38db9c56-e0f2-448b-ccad-f86b2526ab48"
      },
      "source": [
        "plt.scatter(df_dbscan_resampled.index,df_dbscan_resampled['dbscan_anomally'])"
      ],
      "execution_count": null,
      "outputs": [
        {
          "output_type": "execute_result",
          "data": {
            "text/plain": [
              "<matplotlib.collections.PathCollection at 0x7fd458728890>"
            ]
          },
          "metadata": {},
          "execution_count": 29
        },
        {
          "output_type": "display_data",
          "data": {
            "image/png": "[encoded data removed]",
            "text/plain": [
              "<Figure size 432x288 with 1 Axes>"
            ]
          },
          "metadata": {
            "needs_background": "light"
          }
        }
      ]
    },
    {
      "cell_type": "markdown",
      "metadata": {
        "id": "eybtoMOVVhmt"
      },
      "source": [
        "##X.4 Anomalias por KNN"
      ]
    },
    {
      "cell_type": "code",
      "metadata": {
        "id": "AzGrzxKRVhOm"
      },
      "source": [
        "# Divisão da base entre treino e teste\n",
        "\n",
        "from sklearn.model_selection import train_test_split\n",
        "\n",
        "df_aux_knn = df_dbscan_resampled\n",
        "\n",
        "columns = df_aux_knn.columns.tolist()\n",
        "columns = [c for c in columns if c not in ['codigo_falha','time','hora','erro_temp','dbscan_anomally']]\n",
        "target = 'dbscan_anomally'\n",
        "\n",
        "\n",
        "X = df_aux_knn[columns]\n",
        "y = df_aux_knn[target]\n",
        "\n",
        "x_train, x_test, y_train, y_test = train_test_split(X,y,test_size=0.2,random_state=0)"
      ],
      "execution_count": null,
      "outputs": []
    },
    {
      "cell_type": "code",
      "metadata": {
        "id": "B7K_KiONVhMR"
      },
      "source": [
        "# KNN - K Nearst Neighbors\n",
        "# https://scikit-learn.org/stable/modules/generated/sklearn.neighbors.KNeighborsClassifier.html\n",
        "\n",
        "from sklearn.neighbors import KNeighborsClassifier\n",
        "\n",
        "neigh = KNeighborsClassifier(n_neighbors=3)\n",
        "neigh.fit(x_train, y_train)\n",
        "\n",
        "y_pred = neigh.predict(x_test)"
      ],
      "execution_count": null,
      "outputs": []
    },
    {
      "cell_type": "code",
      "metadata": {
        "id": "yv1i_w_JXyaT"
      },
      "source": [
        "accuracy_score(y_test,y_pred)"
      ],
      "execution_count": null,
      "outputs": []
    },
    {
      "cell_type": "code",
      "metadata": {
        "colab": {
          "base_uri": "https://localhost:8080/",
          "height": 295
        },
        "id": "i4iLHf8nVhJd",
        "outputId": "df499890-fe4a-42a4-8438-039e202224c8"
      },
      "source": [
        "# Matriz de confusão\n",
        "import seaborn as sns\n",
        "from sklearn.metrics import confusion_matrix\n",
        "confMatrix = confusion_matrix(y_pred, y_test)\n",
        "\n",
        "ax = plt.subplot()\n",
        "sns.heatmap(confMatrix, annot=True, fmt=\".0f\")\n",
        "plt.xlabel('Real')\n",
        "plt.ylabel('Previsto')\n",
        "plt.title('Matriz de Confusão')\n",
        "\n",
        "# Colocar os nomes\n",
        "ax.xaxis.set_ticklabels(['Normal', 'Anomalia']) \n",
        "ax.yaxis.set_ticklabels(['Normal', 'Anomalia'])\n",
        "plt.show()"
      ],
      "execution_count": null,
      "outputs": [
        {
          "output_type": "display_data",
          "data": {
            "image/png": "[encoded data removed]",
            "text/plain": [
              "<Figure size 432x288 with 2 Axes>"
            ]
          },
          "metadata": {
            "needs_background": "light"
          }
        }
      ]
    },
    {
      "cell_type": "markdown",
      "metadata": {
        "id": "e3z3gt88WENX"
      },
      "source": [
        "##X.4 Anomalias por Isolation Forest"
      ]
    },
    {
      "cell_type": "code",
      "metadata": {
        "id": "fcqiSLUFRML7"
      },
      "source": [
        "# Misturar registros\n",
        "seed(1)\n",
        "\n",
        "size = len(df_dbscan_resampled['time'])\n",
        "df_dbscan_resampled['shuffle'] = np.random.random_sample((size,))"
      ],
      "execution_count": null,
      "outputs": []
    },
    {
      "cell_type": "code",
      "metadata": {
        "id": "CUoMv8ixSRvd",
        "colab": {
          "base_uri": "https://localhost:8080/",
          "height": 399
        },
        "outputId": "51e18286-a6d5-4985-90c6-ca1929b22da7"
      },
      "source": [
        "df_dbscan_resampled = df_dbscan_resampled.sort_values(by=['shuffle'])\n",
        "df_dbscan_resampled.head()"
      ],
      "execution_count": null,
      "outputs": [
        {
          "output_type": "execute_result",
          "data": {
            "text/html": [
              "<div>\n",
              "<style scoped>\n",
              "    .dataframe tbody tr th:only-of-type {\n",
              "        vertical-align: middle;\n",
              "    }\n",
              "\n",
              "    .dataframe tbody tr th {\n",
              "        vertical-align: top;\n",
              "    }\n",
              "\n",
              "    .dataframe thead th {\n",
              "        text-align: right;\n",
              "    }\n",
              "</style>\n",
              "<table border=\"1\" class=\"dataframe\">\n",
              "  <thead>\n",
              "    <tr style=\"text-align: right;\">\n",
              "      <th></th>\n",
              "      <th>corrente_comp1</th>\n",
              "      <th>rpm_condensador</th>\n",
              "      <th>temp_amb_retorno</th>\n",
              "      <th>temp_descarga_comp1</th>\n",
              "      <th>temp_meio_condensador</th>\n",
              "      <th>temp_descarga_comp2</th>\n",
              "      <th>temp_dissipador_calor</th>\n",
              "      <th>frequencia_compressor</th>\n",
              "      <th>corrente_comp2</th>\n",
              "      <th>temp_succao</th>\n",
              "      <th>tensao_barramentoinv</th>\n",
              "      <th>corrente_compressor</th>\n",
              "      <th>temp_externa</th>\n",
              "      <th>dbscan_anomally</th>\n",
              "      <th>time</th>\n",
              "      <th>shuffle</th>\n",
              "    </tr>\n",
              "  </thead>\n",
              "  <tbody>\n",
              "    <tr>\n",
              "      <th>1185</th>\n",
              "      <td>0.0</td>\n",
              "      <td>612.0</td>\n",
              "      <td>21.0</td>\n",
              "      <td>30.000000</td>\n",
              "      <td>18.0</td>\n",
              "      <td>18.0</td>\n",
              "      <td>26.0</td>\n",
              "      <td>30.0</td>\n",
              "      <td>0.0</td>\n",
              "      <td>18.0</td>\n",
              "      <td>284.0</td>\n",
              "      <td>5.5</td>\n",
              "      <td>16.0</td>\n",
              "      <td>0</td>\n",
              "      <td>2021-05-20 00:44:08.694000-03:00</td>\n",
              "      <td>1.566658e-07</td>\n",
              "    </tr>\n",
              "    <tr>\n",
              "      <th>2791</th>\n",
              "      <td>0.0</td>\n",
              "      <td>252.0</td>\n",
              "      <td>22.0</td>\n",
              "      <td>60.000000</td>\n",
              "      <td>36.0</td>\n",
              "      <td>39.0</td>\n",
              "      <td>49.0</td>\n",
              "      <td>60.0</td>\n",
              "      <td>0.0</td>\n",
              "      <td>19.0</td>\n",
              "      <td>284.0</td>\n",
              "      <td>14.0</td>\n",
              "      <td>21.0</td>\n",
              "      <td>0</td>\n",
              "      <td>2021-06-16 14:51:27.389000-03:00</td>\n",
              "      <td>1.528207e-05</td>\n",
              "    </tr>\n",
              "    <tr>\n",
              "      <th>4006</th>\n",
              "      <td>0.0</td>\n",
              "      <td>48.0</td>\n",
              "      <td>21.0</td>\n",
              "      <td>24.000000</td>\n",
              "      <td>21.0</td>\n",
              "      <td>22.0</td>\n",
              "      <td>30.0</td>\n",
              "      <td>0.0</td>\n",
              "      <td>0.0</td>\n",
              "      <td>21.0</td>\n",
              "      <td>292.0</td>\n",
              "      <td>0.0</td>\n",
              "      <td>20.0</td>\n",
              "      <td>0</td>\n",
              "      <td>2021-07-06 10:47:49.356000-03:00</td>\n",
              "      <td>1.150376e-04</td>\n",
              "    </tr>\n",
              "    <tr>\n",
              "      <th>8227</th>\n",
              "      <td>0.0</td>\n",
              "      <td>400.0</td>\n",
              "      <td>22.0</td>\n",
              "      <td>115.106441</td>\n",
              "      <td>30.0</td>\n",
              "      <td>70.0</td>\n",
              "      <td>40.0</td>\n",
              "      <td>60.0</td>\n",
              "      <td>20.0</td>\n",
              "      <td>20.0</td>\n",
              "      <td>290.0</td>\n",
              "      <td>18.0</td>\n",
              "      <td>25.0</td>\n",
              "      <td>1</td>\n",
              "      <td>2021-05-01 00:00:00.000000-03:00</td>\n",
              "      <td>1.368358e-04</td>\n",
              "    </tr>\n",
              "    <tr>\n",
              "      <th>3793</th>\n",
              "      <td>0.0</td>\n",
              "      <td>0.0</td>\n",
              "      <td>20.0</td>\n",
              "      <td>20.000000</td>\n",
              "      <td>16.0</td>\n",
              "      <td>19.0</td>\n",
              "      <td>26.0</td>\n",
              "      <td>0.0</td>\n",
              "      <td>0.0</td>\n",
              "      <td>17.0</td>\n",
              "      <td>292.0</td>\n",
              "      <td>0.0</td>\n",
              "      <td>15.0</td>\n",
              "      <td>0</td>\n",
              "      <td>2021-07-04 01:47:36.933000-03:00</td>\n",
              "      <td>1.618815e-04</td>\n",
              "    </tr>\n",
              "  </tbody>\n",
              "</table>\n",
              "</div>"
            ],
            "text/plain": [
              "      corrente_comp1  ...       shuffle\n",
              "1185             0.0  ...  1.566658e-07\n",
              "2791             0.0  ...  1.528207e-05\n",
              "4006             0.0  ...  1.150376e-04\n",
              "8227             0.0  ...  1.368358e-04\n",
              "3793             0.0  ...  1.618815e-04\n",
              "\n",
              "[5 rows x 16 columns]"
            ]
          },
          "metadata": {},
          "execution_count": 35
        }
      ]
    },
    {
      "cell_type": "code",
      "metadata": {
        "colab": {
          "base_uri": "https://localhost:8080/"
        },
        "id": "B7OZPWcvSr3k",
        "outputId": "3bd1bdf5-d28c-493c-9774-44795e5051f1"
      },
      "source": [
        "df_dbscan_resampled['dbscan_anomally'].value_counts()"
      ],
      "execution_count": null,
      "outputs": [
        {
          "output_type": "execute_result",
          "data": {
            "text/plain": [
              "0    5289\n",
              "1    4008\n",
              "Name: dbscan_anomally, dtype: int64"
            ]
          },
          "metadata": {},
          "execution_count": 36
        }
      ]
    },
    {
      "cell_type": "code",
      "metadata": {
        "id": "snecJRMHZt4T",
        "colab": {
          "base_uri": "https://localhost:8080/"
        },
        "outputId": "3df62335-37b2-43b0-844d-aa8d4cf1cae3"
      },
      "source": [
        "df_dbscan_resampled.columns"
      ],
      "execution_count": null,
      "outputs": [
        {
          "output_type": "execute_result",
          "data": {
            "text/plain": [
              "Index(['corrente_comp1', 'rpm_condensador', 'temp_amb_retorno',\n",
              "       'temp_descarga_comp1', 'temp_meio_condensador', 'temp_descarga_comp2',\n",
              "       'temp_dissipador_calor', 'frequencia_compressor', 'corrente_comp2',\n",
              "       'temp_succao', 'tensao_barramentoinv', 'corrente_compressor',\n",
              "       'temp_externa', 'dbscan_anomally', 'time', 'shuffle'],\n",
              "      dtype='object')"
            ]
          },
          "metadata": {},
          "execution_count": 37
        }
      ]
    },
    {
      "cell_type": "code",
      "metadata": {
        "colab": {
          "base_uri": "https://localhost:8080/"
        },
        "id": "bM5Yd3BzCBbE",
        "outputId": "1bc8b701-d33b-4a6e-d4d9-847e361efbdc"
      },
      "source": [
        "state = np.random.RandomState(42)\n",
        "\n",
        "df_aux_if = df_dbscan_resampled\n",
        "\n",
        "columns = df_aux_if.columns.tolist()\n",
        "columns = [c for c in columns if c not in ['codigo_falha','time','hora','erro_temp','dbscan_anomally','shuffle']]\n",
        "\n",
        "target = 'dbscan_anomally'\n",
        "\n",
        "X = df_aux_if[columns]\n",
        "Y = df_aux_if[target]\n",
        "\n",
        "falha = df_aux[df_aux_if['dbscan_anomally'] != 0]\n",
        "normal = df_aux[df_aux_if['dbscan_anomally'] == 0]\n",
        "outlier_fraction = len(falha)/float(len(normal))\n",
        "\n",
        "clf = IsolationForest(n_estimators= 100, max_samples=len(df_aux_if),contamination=outlier_fraction,random_state=state, verbose=0)\n",
        "clf.fit(X)\n",
        "scores_prediction = clf.decision_function(X)\n",
        "y_pred = clf.predict(X)\n",
        "\n",
        "y_pred[y_pred == 1] = 0\n",
        "y_pred[y_pred == -1] = 1\n",
        "n_errors = (y_pred != Y).sum()\n",
        "\n",
        "\n",
        "# Run Classification Metrics\n",
        "print(\"{}: {}\".format('Isolation Forest',n_errors))\n",
        "print(\"Accuracy Score :\")\n",
        "print(accuracy_score(Y,y_pred))\n",
        "print(\"Classification Report :\")\n",
        "print(classification_report(Y,y_pred))"
      ],
      "execution_count": null,
      "outputs": [
        {
          "output_type": "stream",
          "name": "stdout",
          "text": [
            "Isolation Forest: 4017\n",
            "Accuracy Score :\n",
            "0.5679251371410132\n",
            "Classification Report :\n",
            "              precision    recall  f1-score   support\n",
            "\n",
            "           0       0.57      1.00      0.72      5289\n",
            "           1       0.15      0.00      0.00      4008\n",
            "\n",
            "    accuracy                           0.57      9297\n",
            "   macro avg       0.36      0.50      0.36      9297\n",
            "weighted avg       0.39      0.57      0.41      9297\n",
            "\n"
          ]
        }
      ]
    },
    {
      "cell_type": "code",
      "metadata": {
        "colab": {
          "base_uri": "https://localhost:8080/",
          "height": 295
        },
        "id": "Hzqm5xSCW4Pb",
        "outputId": "34bd7d59-e463-4f6c-b5b1-afd2afa515a1"
      },
      "source": [
        "# Matriz de confusão\n",
        "import seaborn as sns\n",
        "from sklearn.metrics import confusion_matrix\n",
        "confMatrix = confusion_matrix(y_pred, Y)\n",
        "\n",
        "ax = plt.subplot()\n",
        "sns.heatmap(confMatrix, annot=True, fmt=\".0f\")\n",
        "plt.xlabel('Real')\n",
        "plt.ylabel('Previsto')\n",
        "plt.title('Matriz de Confusão')\n",
        "\n",
        "# Colocar os nomes\n",
        "ax.xaxis.set_ticklabels(['Normal', 'Anomalia']) \n",
        "ax.yaxis.set_ticklabels(['Normal', 'Anomalia'])\n",
        "plt.show()"
      ],
      "execution_count": null,
      "outputs": [
        {
          "output_type": "display_data",
          "data": {
            "image/png": "[encoded data removed]",
            "text/plain": [
              "<Figure size 432x288 with 2 Axes>"
            ]
          },
          "metadata": {
            "needs_background": "light"
          }
        }
      ]
    },
    {
      "cell_type": "markdown",
      "metadata": {
        "id": "CQILSGAnjPAS"
      },
      "source": [
        "##X.y Gerando relatório em WORD"
      ]
    },
    {
      "cell_type": "code",
      "metadata": {
        "id": "PQPKvCjcFovR"
      },
      "source": [
        "# _______________________________________________________________\n",
        "# Função para impressão de dataframe em documento\n",
        "\n",
        "def print_dataframe (df, document):\n",
        "  # add a table to the end and create a reference variable\n",
        "  # extra row is so we can add the header row\n",
        "  t = document.add_table(df.shape[0]+1, df.shape[1])\n",
        "\n",
        "  # add the header rows.\n",
        "  for j in range(df.shape[-1]):\n",
        "      t.cell(0,j).text = df.columns[j]\n",
        "\n",
        "  # add the rest of the data frame\n",
        "  for i in range(df.shape[0]):\n",
        "      for j in range(df.shape[-1]):\n",
        "          t.cell(i+1,j).text = str(df.values[i,j])\n",
        "\n",
        "# _______________________________________________________________"
      ],
      "execution_count": null,
      "outputs": []
    },
    {
      "cell_type": "code",
      "metadata": {
        "id": "s_LNGGFrjOgC"
      },
      "source": [
        "workdir_path = '/content/drive/My Drive/2. Greenole/9. Análises/00. Trabalho BI Master/2. Estudo dos dados/Imagens Geradas/Análise HVAC-BK/' + maquina_estudo\n",
        "os.chdir(workdir_path)\n",
        "\n",
        "variaveis_estudo = df.columns.drop(['time','hora'])\n",
        "#['codigo_falha', 'controle_on_off_ihm', 'corrente_comp1','rpm_condensador', 'temp_amb_retorno', 'setpoint_temp_ihm',\n",
        "       #'temp_descarga_comp1', 'temp_meio_condensador', 'temp_descarga_comp2','temp_dissipador_calor', 'frequencia_compressor', 'corrente_comp2',\n",
        "       #'modo_ihm', 'temp_succao', 'tensao_barramentoinv','corrente_compressor', 'temp_externa', 'erro_temp', 'potencia']\n",
        "\n",
        "document = Document()\n",
        "\n",
        "document.add_heading('Análise ' + maquina_estudo + ' BK', 0)\n",
        "\n",
        "p = document.add_paragraph('Análise de dados da máquina ' + maquina_estudo + ' no período de ' + data_inicial + ' a ' + data_final + '.')\n",
        "p = document.add_paragraph(' ')\n",
        "document.add_heading('Configurações para estudo', level=1)\n",
        "p = document.add_paragraph(' ')\n",
        "p = document.add_paragraph('Data inicial: '+data_inicial)\n",
        "p = document.add_paragraph('Data final: '+data_final)\n",
        "p = document.add_paragraph('Hora de início: '+str(hora_inicial))\n",
        "p = document.add_paragraph('Hora final:'+str(hora_final))\n",
        "if func_maq == 0:\n",
        "  func_maq_desc = 'Não'\n",
        "else:\n",
        "    func_maq_desc = 'Sim'\n",
        "p = document.add_paragraph('Restrição de máquina ligada? '+func_maq_desc)\n",
        "p = document.add_paragraph('Tolerância ao redor do setpoint: +-'+str(tol_temp_sp)+'°C')\n",
        "p = document.add_paragraph('Temperatura limite superior: '+str(lim_temp_sup)+'°C')\n",
        "p = document.add_paragraph('Temperatura limite inferior: '+str(lim_temp_inf)+'°C')\n",
        "p = document.add_paragraph(' ')\n",
        "\n",
        "document.add_heading('Tabela Resumo do período', level=1)\n",
        "p = document.add_paragraph(' ')\n",
        "\n",
        "lista_index = df_geral.index.to_list()\n",
        "lista_valores = df_geral[df_geral.columns[0]].to_list()\n",
        "\n",
        "\n",
        "table = document.add_table(rows=1, cols=2)\n",
        "hdr_cells = table.rows[0].cells\n",
        "hdr_cells[0].text = 'INFO'\n",
        "hdr_cells[1].text = 'VALOR'\n",
        "for i in range(len(df_geral)-1):\n",
        "  row_cells = table.add_row().cells\n",
        "  row_cells[0].text = str(lista_index[i])\n",
        "  row_cells[1].text = str(lista_valores[i])\n",
        "\n",
        "document.add_page_break()\n",
        "\n",
        "p = document.add_paragraph(' ')\n",
        "\n",
        "document.add_heading('Gráficos de variáveis', level=1)\n",
        "p = document.add_paragraph(' ')\n",
        "\n",
        "for i in range(len(variaveis_estudo)):\n",
        "  p = document.add_paragraph()\n",
        "  document.add_heading(variaveis_estudo[i], level=2)\n",
        "  document.add_picture(variaveis_estudo[i] + '_scatter', width=Inches(4))\n",
        "  document.add_picture(variaveis_estudo[i] + '_hist', width=Inches(4))\n",
        "\n",
        "\n",
        "p = document.add_paragraph(' ')\n",
        "\n",
        "document.add_heading('Anomalias', level=1)\n",
        "p = document.add_paragraph(' ')\n",
        "\n",
        "# Print do dataframe de anomalias por variavel\n",
        "print_dataframe(df_qt_anomalies, document)\n",
        "p = document.add_paragraph(' ')\n",
        "\n",
        "document.add_heading('Métodos Estatísticos', level=2)\n",
        "p = document.add_paragraph(' ')\n",
        "\n",
        "# Print do dataframe de anomalias\n",
        "print_dataframe(df_stats_anomalies, document)\n",
        "p = document.add_paragraph(' ')\n",
        "\n",
        "workdir_path = '/content/drive/My Drive/2. Greenole/9. Análises/00. Trabalho BI Master/2. Estudo dos dados'\n",
        "os.chdir(workdir_path)\n",
        "document.save('BK_' + maquina_estudo + '.docx')"
      ],
      "execution_count": null,
      "outputs": []
    },
    {
      "cell_type": "code",
      "metadata": {
        "id": "7D8FqHLhcWQ2"
      },
      "source": [
        ""
      ],
      "execution_count": null,
      "outputs": []
    }
  ]
}